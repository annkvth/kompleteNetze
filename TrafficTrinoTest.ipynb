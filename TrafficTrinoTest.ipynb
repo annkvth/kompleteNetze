{
  "nbformat": 4,
  "nbformat_minor": 0,
  "metadata": {
    "colab": {
      "provenance": [],
      "authorship_tag": "ABX9TyOD7UdN7V+IOSD6YI01s8iG",
      "include_colab_link": true
    },
    "kernelspec": {
      "name": "python3",
      "display_name": "Python 3"
    },
    "language_info": {
      "name": "python"
    }
  },
  "cells": [
    {
      "cell_type": "markdown",
      "metadata": {
        "id": "view-in-github",
        "colab_type": "text"
      },
      "source": [
        "<a href=\"https://colab.research.google.com/github/annkvth/kompleteNetze/blob/main/TrafficTrinoTest.ipynb\" target=\"_parent\"><img src=\"https://colab.research.google.com/assets/colab-badge.svg\" alt=\"Open In Colab\"/></a>"
      ]
    },
    {
      "cell_type": "markdown",
      "source": [
        "See example from the documentation: https://traffic-viz.github.io/gallery/kaliningrad.html\n",
        "\n",
        "Note: there's no need to store username and password in a config file - the jupyter output will feature a link for trino authentication in a separate browser window"
      ],
      "metadata": {
        "id": "JlUjMrrLV74V"
      }
    },
    {
      "cell_type": "markdown",
      "source": [
        "Installing the traffic python package if necessary\n"
      ],
      "metadata": {
        "id": "ucTdKk6xNuGq"
      }
    },
    {
      "cell_type": "code",
      "source": [
        "!pip install traffic\n",
        "\n"
      ],
      "metadata": {
        "collapsed": true,
        "id": "5S6cAJFrM9N9"
      },
      "execution_count": null,
      "outputs": []
    },
    {
      "cell_type": "markdown",
      "source": [
        "Include libraries"
      ],
      "metadata": {
        "id": "JiGW3nhdOE34"
      }
    },
    {
      "cell_type": "code",
      "source": [
        "from datetime import datetime, timedelta\n",
        "import pandas as pd\n",
        "#from cartes.crs import Lambert93  # type: ignore"
      ],
      "metadata": {
        "id": "wDHpwv0LN-IL"
      },
      "execution_count": null,
      "outputs": []
    },
    {
      "cell_type": "markdown",
      "source": [
        "Always use python engine for dataframe queries, see\n",
        "https://stackoverflow.com/questions/67063643/is-there-a-way-to-force-pandas-dataframe-query-to-use-python-as-default-engine"
      ],
      "metadata": {
        "id": "3SCVKlupW8mh"
      }
    },
    {
      "cell_type": "code",
      "source": [
        "from functools import partialmethod\n",
        "\n",
        "pd.DataFrame.query = partialmethod(pd.DataFrame.query, engine=\"python\")\n",
        "\n"
      ],
      "metadata": {
        "id": "jwR4zG9eW7gh"
      },
      "execution_count": null,
      "outputs": []
    },
    {
      "cell_type": "markdown",
      "source": [
        "... and the traffic library used to hadle the opensky queries"
      ],
      "metadata": {
        "id": "v54hxK6sXgS6"
      }
    },
    {
      "cell_type": "code",
      "source": [
        "import traffic\n",
        "traffic.config_file"
      ],
      "metadata": {
        "id": "5VJQ_ts1ONA5"
      },
      "execution_count": null,
      "outputs": []
    },
    {
      "cell_type": "code",
      "source": [
        "from traffic.data import opensky\n",
        "#from traffic.core import Flight\n",
        "#from traffic.data import eurofirs\n"
      ],
      "metadata": {
        "id": "zfbTzyiyR1-Y"
      },
      "execution_count": null,
      "outputs": []
    },
    {
      "cell_type": "code",
      "source": [
        "t = opensky.history(\n",
        "    \"2022-02-22\",\n",
        "    \"2022-03-06\",\n",
        "    callsign=[\n",
        "        # Some callsigns between Moscow, Saint Petersburg and Kaliningrad\n",
        "        \"AFL1000 \", \"AFL1002 \", \"AFL1004 \", \"AFL1006 \", \"AFL1008 \",\n",
        "        \"SDM6323 \", \"SDM6325 \", \"SDM6329 \",\n",
        "    ],\n",
        ")\n"
      ],
      "metadata": {
        "id": "BjyJBIMtR97R"
      },
      "execution_count": null,
      "outputs": []
    },
    {
      "cell_type": "code",
      "source": [
        "import matplotlib.pyplot as plt\n",
        "\n",
        "from cartes.crs import LambertConformal\n",
        "from cartes.utils.features import countries, lakes, ocean\n",
        "\n",
        "from traffic.data import eurofirs, airports\n",
        "\n",
        "fig, ax = plt.subplots(\n",
        "    1, 2, figsize=(15, 6), dpi=300,\n",
        "    subplot_kw=dict(projection=LambertConformal(10, 45)),\n",
        ")\n",
        "\n",
        "title_style = dict(loc=\"left\", font=\"Ubuntu\", fontsize=16, fontweight=400)\n",
        "\n",
        "for ax_ in ax:\n",
        "    ax_.set_extent((15, 40, 54, 60))\n",
        "\n",
        "    ax_.add_feature(countries(scale=\"50m\"))\n",
        "    ax_.add_feature(lakes(scale=\"50m\"))\n",
        "    ax_.add_feature(ocean(scale=\"50m\"))\n",
        "\n",
        "    ax_.spines[\"geo\"].set_visible(False)\n",
        "\n",
        "    for fir in eurofirs:\n",
        "        fir.plot(ax_, color=\"#4c78a833\")\n",
        "        fir.plot(ax_, edgecolor=\"#4c78a8\")\n",
        "\n",
        "    airports[\"UUEE\"].point.plot(ax_, text_kw=dict(s=\"  Moscow\", fontsize=12))\n",
        "    airports[\"ULLI\"].point.plot(ax_, text_kw=dict(s=\"  Saint Petersburg\", fontsize=12))\n",
        "    airports[\"UMKK\"].point.plot(ax_, text_kw=dict(s=\"  Kaliningrad\", fontsize=12))\n",
        "\n",
        "\n",
        "t.before(\"2022-02-27\").plot(ax[0], color=\"#f58518\")\n",
        "ax[0].set_title(\"Before February 27\", **title_style)\n",
        "t.after(\"2022-02-28\").plot(ax[1], color=\"#f58518\")\n",
        "ax[1].set_title(\"After February 28\", **title_style)\n",
        "\n",
        "fig.set_tight_layout(True)"
      ],
      "metadata": {
        "id": "fmu-vB2jVoyL"
      },
      "execution_count": null,
      "outputs": []
    },
    {
      "cell_type": "code",
      "source": [],
      "metadata": {
        "id": "dVQyFfGsVu0R"
      },
      "execution_count": null,
      "outputs": []
    }
  ]
}