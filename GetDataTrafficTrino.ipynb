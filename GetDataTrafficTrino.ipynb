{
  "nbformat": 4,
  "nbformat_minor": 0,
  "metadata": {
    "colab": {
      "provenance": [],
      "authorship_tag": "ABX9TyOr8y6DkdN3dHWkHoFc8uCN",
      "include_colab_link": true
    },
    "kernelspec": {
      "name": "python3",
      "display_name": "Python 3"
    },
    "language_info": {
      "name": "python"
    }
  },
  "cells": [
    {
      "cell_type": "markdown",
      "metadata": {
        "id": "view-in-github",
        "colab_type": "text"
      },
      "source": [
        "<a href=\"https://colab.research.google.com/github/annkvth/kompleteNetze/blob/main/GetDataTrafficTrino.ipynb\" target=\"_parent\"><img src=\"https://colab.research.google.com/assets/colab-badge.svg\" alt=\"Open In Colab\"/></a>"
      ]
    },
    {
      "cell_type": "markdown",
      "source": [
        "Code to retrieve data from the opensky database\n",
        "\n",
        "See example from the documentation: https://traffic-viz.github.io/gallery/kaliningrad.html\n",
        "\n",
        "Note: there's no need to store username and password in a config file - the jupyter output will feature a link for trino authentication in a separate browser window"
      ],
      "metadata": {
        "id": "JlUjMrrLV74V"
      }
    },
    {
      "cell_type": "markdown",
      "source": [
        "Installing the traffic python package if necessary\n"
      ],
      "metadata": {
        "id": "ucTdKk6xNuGq"
      }
    },
    {
      "cell_type": "code",
      "source": [
        "!pip install traffic\n",
        "\n"
      ],
      "metadata": {
        "collapsed": true,
        "id": "5S6cAJFrM9N9",
        "colab": {
          "base_uri": "https://localhost:8080/"
        },
        "outputId": "7d514751-5321-4358-e1e4-06e0d501a0cd"
      },
      "execution_count": 98,
      "outputs": [
        {
          "output_type": "stream",
          "name": "stdout",
          "text": [
            "Requirement already satisfied: traffic in /usr/local/lib/python3.10/dist-packages (2.11)\n",
            "Requirement already satisfied: cartes>=0.8.2 in /usr/local/lib/python3.10/dist-packages (from traffic) (0.8.3)\n",
            "Requirement already satisfied: httpx>=0.27.2 in /usr/local/lib/python3.10/dist-packages (from traffic) (0.27.2)\n",
            "Requirement already satisfied: impunity>=1.0.4 in /usr/local/lib/python3.10/dist-packages (from traffic) (1.0.5)\n",
            "Requirement already satisfied: metar>=1.11.0 in /usr/local/lib/python3.10/dist-packages (from traffic) (1.11.0)\n",
            "Requirement already satisfied: onnxruntime>=1.20.0 in /usr/local/lib/python3.10/dist-packages (from traffic) (1.20.1)\n",
            "Requirement already satisfied: openap>=2.0 in /usr/local/lib/python3.10/dist-packages (from traffic) (2.0)\n",
            "Requirement already satisfied: pitot>=0.3.1 in /usr/local/lib/python3.10/dist-packages (from traffic) (0.3.2)\n",
            "Requirement already satisfied: py7zr>=0.22.0 in /usr/local/lib/python3.10/dist-packages (from traffic) (0.22.0)\n",
            "Requirement already satisfied: pyarrow>=18.0.0 in /usr/local/lib/python3.10/dist-packages (from traffic) (18.1.0)\n",
            "Requirement already satisfied: pyopensky>=2.11 in /usr/local/lib/python3.10/dist-packages (from traffic) (2.12)\n",
            "Requirement already satisfied: rich>=13.9.4 in /usr/local/lib/python3.10/dist-packages (from traffic) (13.9.4)\n",
            "Requirement already satisfied: rs1090>=0.3.8 in /usr/local/lib/python3.10/dist-packages (from traffic) (0.3.9)\n",
            "Requirement already satisfied: typing-extensions>=4.12.2 in /usr/local/lib/python3.10/dist-packages (from traffic) (4.12.2)\n",
            "Requirement already satisfied: altair>=5.4.1 in /usr/local/lib/python3.10/dist-packages (from cartes>=0.8.2->traffic) (5.5.0)\n",
            "Requirement already satisfied: appdirs>=1.4.4 in /usr/local/lib/python3.10/dist-packages (from cartes>=0.8.2->traffic) (1.4.4)\n",
            "Requirement already satisfied: beautifulsoup4>=4.12.3 in /usr/local/lib/python3.10/dist-packages (from cartes>=0.8.2->traffic) (4.12.3)\n",
            "Requirement already satisfied: cartopy>=0.24.0 in /usr/local/lib/python3.10/dist-packages (from cartes>=0.8.2->traffic) (0.24.1)\n",
            "Requirement already satisfied: fastapi>=0.115.0 in /usr/local/lib/python3.10/dist-packages (from cartes>=0.8.2->traffic) (0.115.5)\n",
            "Requirement already satisfied: geopandas>=1.0.1 in /usr/local/lib/python3.10/dist-packages (from cartes>=0.8.2->traffic) (1.0.1)\n",
            "Requirement already satisfied: jsonschema>=4.23.0 in /usr/local/lib/python3.10/dist-packages (from cartes>=0.8.2->traffic) (4.23.0)\n",
            "Requirement already satisfied: lxml>=5.3.0 in /usr/local/lib/python3.10/dist-packages (from cartes>=0.8.2->traffic) (5.3.0)\n",
            "Requirement already satisfied: matplotlib>=3.9.2 in /usr/local/lib/python3.10/dist-packages (from cartes>=0.8.2->traffic) (3.9.2)\n",
            "Requirement already satisfied: nest-asyncio>=1.6.0 in /usr/local/lib/python3.10/dist-packages (from cartes>=0.8.2->traffic) (1.6.0)\n",
            "Requirement already satisfied: networkx>=3.2.1 in /usr/local/lib/python3.10/dist-packages (from cartes>=0.8.2->traffic) (3.4.2)\n",
            "Requirement already satisfied: numpy>=2.1.2 in /usr/local/lib/python3.10/dist-packages (from cartes>=0.8.2->traffic) (2.1.3)\n",
            "Requirement already satisfied: pandas>=2.2.3 in /usr/local/lib/python3.10/dist-packages (from cartes>=0.8.2->traffic) (2.2.3)\n",
            "Requirement already satisfied: pyproj>=3.7.0 in /usr/local/lib/python3.10/dist-packages (from cartes>=0.8.2->traffic) (3.7.0)\n",
            "Requirement already satisfied: scipy>=1.14.1 in /usr/local/lib/python3.10/dist-packages (from cartes>=0.8.2->traffic) (1.14.1)\n",
            "Requirement already satisfied: shapely>=2.0.6 in /usr/local/lib/python3.10/dist-packages (from cartes>=0.8.2->traffic) (2.0.6)\n",
            "Requirement already satisfied: tqdm>=4.66.5 in /usr/local/lib/python3.10/dist-packages (from cartes>=0.8.2->traffic) (4.66.6)\n",
            "Requirement already satisfied: uvicorn>=0.31.0 in /usr/local/lib/python3.10/dist-packages (from cartes>=0.8.2->traffic) (0.32.1)\n",
            "Requirement already satisfied: anyio in /usr/local/lib/python3.10/dist-packages (from httpx>=0.27.2->traffic) (3.7.1)\n",
            "Requirement already satisfied: certifi in /usr/local/lib/python3.10/dist-packages (from httpx>=0.27.2->traffic) (2024.8.30)\n",
            "Requirement already satisfied: httpcore==1.* in /usr/local/lib/python3.10/dist-packages (from httpx>=0.27.2->traffic) (1.0.7)\n",
            "Requirement already satisfied: idna in /usr/local/lib/python3.10/dist-packages (from httpx>=0.27.2->traffic) (3.10)\n",
            "Requirement already satisfied: sniffio in /usr/local/lib/python3.10/dist-packages (from httpx>=0.27.2->traffic) (1.3.1)\n",
            "Requirement already satisfied: h11<0.15,>=0.13 in /usr/local/lib/python3.10/dist-packages (from httpcore==1.*->httpx>=0.27.2->traffic) (0.14.0)\n",
            "Requirement already satisfied: astor>=0.8.1 in /usr/local/lib/python3.10/dist-packages (from impunity>=1.0.4->traffic) (0.8.1)\n",
            "Requirement already satisfied: pint>=0.24.4 in /usr/local/lib/python3.10/dist-packages (from impunity>=1.0.4->traffic) (0.24.4)\n",
            "Requirement already satisfied: coloredlogs in /usr/local/lib/python3.10/dist-packages (from onnxruntime>=1.20.0->traffic) (15.0.1)\n",
            "Requirement already satisfied: flatbuffers in /usr/local/lib/python3.10/dist-packages (from onnxruntime>=1.20.0->traffic) (24.3.25)\n",
            "Requirement already satisfied: packaging in /usr/local/lib/python3.10/dist-packages (from onnxruntime>=1.20.0->traffic) (24.2)\n",
            "Requirement already satisfied: protobuf in /usr/local/lib/python3.10/dist-packages (from onnxruntime>=1.20.0->traffic) (4.25.5)\n",
            "Requirement already satisfied: sympy in /usr/local/lib/python3.10/dist-packages (from onnxruntime>=1.20.0->traffic) (1.13.1)\n",
            "Requirement already satisfied: pyyaml>=5.1 in /usr/local/lib/python3.10/dist-packages (from openap>=2.0->traffic) (6.0.2)\n",
            "Requirement already satisfied: texttable in /usr/local/lib/python3.10/dist-packages (from py7zr>=0.22.0->traffic) (1.7.0)\n",
            "Requirement already satisfied: pycryptodomex>=3.16.0 in /usr/local/lib/python3.10/dist-packages (from py7zr>=0.22.0->traffic) (3.21.0)\n",
            "Requirement already satisfied: pyzstd>=0.15.9 in /usr/local/lib/python3.10/dist-packages (from py7zr>=0.22.0->traffic) (0.16.2)\n",
            "Requirement already satisfied: pyppmd<1.2.0,>=1.1.0 in /usr/local/lib/python3.10/dist-packages (from py7zr>=0.22.0->traffic) (1.1.0)\n",
            "Requirement already satisfied: pybcj<1.1.0,>=1.0.0 in /usr/local/lib/python3.10/dist-packages (from py7zr>=0.22.0->traffic) (1.0.2)\n",
            "Requirement already satisfied: multivolumefile>=0.2.3 in /usr/local/lib/python3.10/dist-packages (from py7zr>=0.22.0->traffic) (0.2.3)\n",
            "Requirement already satisfied: inflate64<1.1.0,>=1.0.0 in /usr/local/lib/python3.10/dist-packages (from py7zr>=0.22.0->traffic) (1.0.0)\n",
            "Requirement already satisfied: brotli>=1.1.0 in /usr/local/lib/python3.10/dist-packages (from py7zr>=0.22.0->traffic) (1.1.0)\n",
            "Requirement already satisfied: psutil in /usr/local/lib/python3.10/dist-packages (from py7zr>=0.22.0->traffic) (5.9.5)\n",
            "Requirement already satisfied: minio>=7.2.8 in /usr/local/lib/python3.10/dist-packages (from pyopensky>=2.11->traffic) (7.2.12)\n",
            "Requirement already satisfied: pyjwt>=2.9.0 in /usr/local/lib/python3.10/dist-packages (from pyopensky>=2.11->traffic) (2.10.0)\n",
            "Requirement already satisfied: trino>=0.329.0 in /usr/local/lib/python3.10/dist-packages (from trino[sqlalchemy]>=0.329.0->pyopensky>=2.11->traffic) (0.330.0)\n",
            "Requirement already satisfied: tzdata>=2024.2 in /usr/local/lib/python3.10/dist-packages (from pyopensky>=2.11->traffic) (2024.2)\n",
            "Requirement already satisfied: markdown-it-py>=2.2.0 in /usr/local/lib/python3.10/dist-packages (from rich>=13.9.4->traffic) (3.0.0)\n",
            "Requirement already satisfied: pygments<3.0.0,>=2.13.0 in /usr/local/lib/python3.10/dist-packages (from rich>=13.9.4->traffic) (2.18.0)\n",
            "Requirement already satisfied: jinja2 in /usr/local/lib/python3.10/dist-packages (from altair>=5.4.1->cartes>=0.8.2->traffic) (3.1.4)\n",
            "Requirement already satisfied: narwhals>=1.14.2 in /usr/local/lib/python3.10/dist-packages (from altair>=5.4.1->cartes>=0.8.2->traffic) (1.14.3)\n",
            "Requirement already satisfied: soupsieve>1.2 in /usr/local/lib/python3.10/dist-packages (from beautifulsoup4>=4.12.3->cartes>=0.8.2->traffic) (2.6)\n",
            "Requirement already satisfied: pyshp>=2.3 in /usr/local/lib/python3.10/dist-packages (from cartopy>=0.24.0->cartes>=0.8.2->traffic) (2.3.1)\n",
            "Requirement already satisfied: starlette<0.42.0,>=0.40.0 in /usr/local/lib/python3.10/dist-packages (from fastapi>=0.115.0->cartes>=0.8.2->traffic) (0.41.3)\n",
            "Requirement already satisfied: pydantic!=1.8,!=1.8.1,!=2.0.0,!=2.0.1,!=2.1.0,<3.0.0,>=1.7.4 in /usr/local/lib/python3.10/dist-packages (from fastapi>=0.115.0->cartes>=0.8.2->traffic) (2.9.2)\n",
            "Requirement already satisfied: pyogrio>=0.7.2 in /usr/local/lib/python3.10/dist-packages (from geopandas>=1.0.1->cartes>=0.8.2->traffic) (0.10.0)\n",
            "Requirement already satisfied: h2<5,>=3 in /usr/local/lib/python3.10/dist-packages (from httpx[http2]>=0.27.2->cartes>=0.8.2->traffic) (4.1.0)\n",
            "Requirement already satisfied: attrs>=22.2.0 in /usr/local/lib/python3.10/dist-packages (from jsonschema>=4.23.0->cartes>=0.8.2->traffic) (24.2.0)\n",
            "Requirement already satisfied: jsonschema-specifications>=2023.03.6 in /usr/local/lib/python3.10/dist-packages (from jsonschema>=4.23.0->cartes>=0.8.2->traffic) (2024.10.1)\n",
            "Requirement already satisfied: referencing>=0.28.4 in /usr/local/lib/python3.10/dist-packages (from jsonschema>=4.23.0->cartes>=0.8.2->traffic) (0.35.1)\n",
            "Requirement already satisfied: rpds-py>=0.7.1 in /usr/local/lib/python3.10/dist-packages (from jsonschema>=4.23.0->cartes>=0.8.2->traffic) (0.21.0)\n",
            "Requirement already satisfied: mdurl~=0.1 in /usr/local/lib/python3.10/dist-packages (from markdown-it-py>=2.2.0->rich>=13.9.4->traffic) (0.1.2)\n",
            "Requirement already satisfied: contourpy>=1.0.1 in /usr/local/lib/python3.10/dist-packages (from matplotlib>=3.9.2->cartes>=0.8.2->traffic) (1.3.1)\n",
            "Requirement already satisfied: cycler>=0.10 in /usr/local/lib/python3.10/dist-packages (from matplotlib>=3.9.2->cartes>=0.8.2->traffic) (0.12.1)\n",
            "Requirement already satisfied: fonttools>=4.22.0 in /usr/local/lib/python3.10/dist-packages (from matplotlib>=3.9.2->cartes>=0.8.2->traffic) (4.55.0)\n",
            "Requirement already satisfied: kiwisolver>=1.3.1 in /usr/local/lib/python3.10/dist-packages (from matplotlib>=3.9.2->cartes>=0.8.2->traffic) (1.4.7)\n",
            "Requirement already satisfied: pillow>=8 in /usr/local/lib/python3.10/dist-packages (from matplotlib>=3.9.2->cartes>=0.8.2->traffic) (11.0.0)\n",
            "Requirement already satisfied: pyparsing>=2.3.1 in /usr/local/lib/python3.10/dist-packages (from matplotlib>=3.9.2->cartes>=0.8.2->traffic) (3.2.0)\n",
            "Requirement already satisfied: python-dateutil>=2.7 in /usr/local/lib/python3.10/dist-packages (from matplotlib>=3.9.2->cartes>=0.8.2->traffic) (2.8.2)\n",
            "Requirement already satisfied: urllib3 in /usr/local/lib/python3.10/dist-packages (from minio>=7.2.8->pyopensky>=2.11->traffic) (2.2.3)\n",
            "Requirement already satisfied: argon2-cffi in /usr/local/lib/python3.10/dist-packages (from minio>=7.2.8->pyopensky>=2.11->traffic) (23.1.0)\n",
            "Requirement already satisfied: pycryptodome in /usr/local/lib/python3.10/dist-packages (from minio>=7.2.8->pyopensky>=2.11->traffic) (3.21.0)\n",
            "Requirement already satisfied: pytz>=2020.1 in /usr/local/lib/python3.10/dist-packages (from pandas>=2.2.3->cartes>=0.8.2->traffic) (2024.2)\n",
            "Requirement already satisfied: platformdirs>=2.1.0 in /usr/local/lib/python3.10/dist-packages (from pint>=0.24.4->impunity>=1.0.4->traffic) (4.3.6)\n",
            "Requirement already satisfied: flexcache>=0.3 in /usr/local/lib/python3.10/dist-packages (from pint>=0.24.4->impunity>=1.0.4->traffic) (0.3)\n",
            "Requirement already satisfied: flexparser>=0.4 in /usr/local/lib/python3.10/dist-packages (from pint>=0.24.4->impunity>=1.0.4->traffic) (0.4)\n",
            "Requirement already satisfied: requests>=2.31.0 in /usr/local/lib/python3.10/dist-packages (from trino>=0.329.0->trino[sqlalchemy]>=0.329.0->pyopensky>=2.11->traffic) (2.32.3)\n",
            "Requirement already satisfied: tzlocal in /usr/local/lib/python3.10/dist-packages (from trino>=0.329.0->trino[sqlalchemy]>=0.329.0->pyopensky>=2.11->traffic) (5.2)\n",
            "Requirement already satisfied: sqlalchemy>=1.3 in /usr/local/lib/python3.10/dist-packages (from trino[sqlalchemy]>=0.329.0->pyopensky>=2.11->traffic) (2.0.36)\n",
            "Requirement already satisfied: click>=7.0 in /usr/local/lib/python3.10/dist-packages (from uvicorn>=0.31.0->cartes>=0.8.2->traffic) (8.1.7)\n",
            "Requirement already satisfied: exceptiongroup in /usr/local/lib/python3.10/dist-packages (from anyio->httpx>=0.27.2->traffic) (1.2.2)\n",
            "Requirement already satisfied: humanfriendly>=9.1 in /usr/local/lib/python3.10/dist-packages (from coloredlogs->onnxruntime>=1.20.0->traffic) (10.0)\n",
            "Requirement already satisfied: mpmath<1.4,>=1.1.0 in /usr/local/lib/python3.10/dist-packages (from sympy->onnxruntime>=1.20.0->traffic) (1.3.0)\n",
            "Requirement already satisfied: hyperframe<7,>=6.0 in /usr/local/lib/python3.10/dist-packages (from h2<5,>=3->httpx[http2]>=0.27.2->cartes>=0.8.2->traffic) (6.0.1)\n",
            "Requirement already satisfied: hpack<5,>=4.0 in /usr/local/lib/python3.10/dist-packages (from h2<5,>=3->httpx[http2]>=0.27.2->cartes>=0.8.2->traffic) (4.0.0)\n",
            "Requirement already satisfied: annotated-types>=0.6.0 in /usr/local/lib/python3.10/dist-packages (from pydantic!=1.8,!=1.8.1,!=2.0.0,!=2.0.1,!=2.1.0,<3.0.0,>=1.7.4->fastapi>=0.115.0->cartes>=0.8.2->traffic) (0.7.0)\n",
            "Requirement already satisfied: pydantic-core==2.23.4 in /usr/local/lib/python3.10/dist-packages (from pydantic!=1.8,!=1.8.1,!=2.0.0,!=2.0.1,!=2.1.0,<3.0.0,>=1.7.4->fastapi>=0.115.0->cartes>=0.8.2->traffic) (2.23.4)\n",
            "Requirement already satisfied: six>=1.5 in /usr/local/lib/python3.10/dist-packages (from python-dateutil>=2.7->matplotlib>=3.9.2->cartes>=0.8.2->traffic) (1.16.0)\n",
            "Requirement already satisfied: charset-normalizer<4,>=2 in /usr/local/lib/python3.10/dist-packages (from requests>=2.31.0->trino>=0.329.0->trino[sqlalchemy]>=0.329.0->pyopensky>=2.11->traffic) (3.4.0)\n",
            "Requirement already satisfied: greenlet!=0.4.17 in /usr/local/lib/python3.10/dist-packages (from sqlalchemy>=1.3->trino[sqlalchemy]>=0.329.0->pyopensky>=2.11->traffic) (3.1.1)\n",
            "Requirement already satisfied: argon2-cffi-bindings in /usr/local/lib/python3.10/dist-packages (from argon2-cffi->minio>=7.2.8->pyopensky>=2.11->traffic) (21.2.0)\n",
            "Requirement already satisfied: MarkupSafe>=2.0 in /usr/local/lib/python3.10/dist-packages (from jinja2->altair>=5.4.1->cartes>=0.8.2->traffic) (3.0.2)\n",
            "Requirement already satisfied: cffi>=1.0.1 in /usr/local/lib/python3.10/dist-packages (from argon2-cffi-bindings->argon2-cffi->minio>=7.2.8->pyopensky>=2.11->traffic) (1.17.1)\n",
            "Requirement already satisfied: pycparser in /usr/local/lib/python3.10/dist-packages (from cffi>=1.0.1->argon2-cffi-bindings->argon2-cffi->minio>=7.2.8->pyopensky>=2.11->traffic) (2.22)\n"
          ]
        }
      ]
    },
    {
      "cell_type": "markdown",
      "source": [
        "Include libraries"
      ],
      "metadata": {
        "id": "JiGW3nhdOE34"
      }
    },
    {
      "cell_type": "code",
      "source": [
        "from datetime import datetime, timedelta\n",
        "import pandas as pd\n",
        "#from cartes.crs import Lambert93  # type: ignore"
      ],
      "metadata": {
        "id": "wDHpwv0LN-IL"
      },
      "execution_count": 99,
      "outputs": []
    },
    {
      "cell_type": "markdown",
      "source": [
        "Always use python engine for dataframe queries, see\n",
        "https://stackoverflow.com/questions/67063643/is-there-a-way-to-force-pandas-dataframe-query-to-use-python-as-default-engine"
      ],
      "metadata": {
        "id": "3SCVKlupW8mh"
      }
    },
    {
      "cell_type": "code",
      "source": [
        "from functools import partialmethod\n",
        "\n",
        "pd.DataFrame.query = partialmethod(pd.DataFrame.query, engine=\"python\")\n",
        "\n"
      ],
      "metadata": {
        "id": "jwR4zG9eW7gh"
      },
      "execution_count": 100,
      "outputs": []
    },
    {
      "cell_type": "markdown",
      "source": [
        "... and the traffic library used to hadle the opensky queries"
      ],
      "metadata": {
        "id": "v54hxK6sXgS6"
      }
    },
    {
      "cell_type": "code",
      "source": [
        "import traffic\n",
        "traffic.config_file"
      ],
      "metadata": {
        "id": "5VJQ_ts1ONA5",
        "colab": {
          "base_uri": "https://localhost:8080/"
        },
        "outputId": "c44a3d85-a06a-4c55-cd44-b5aa6b3b1dbf"
      },
      "execution_count": 101,
      "outputs": [
        {
          "output_type": "execute_result",
          "data": {
            "text/plain": [
              "PosixPath('/root/.config/traffic/traffic.conf')"
            ]
          },
          "metadata": {},
          "execution_count": 101
        }
      ]
    },
    {
      "cell_type": "code",
      "source": [
        "from traffic.data import opensky\n",
        "#from traffic.core import Flight\n",
        "#from traffic.data import eurofirs\n"
      ],
      "metadata": {
        "id": "zfbTzyiyR1-Y"
      },
      "execution_count": 102,
      "outputs": []
    },
    {
      "cell_type": "markdown",
      "source": [
        "Define list of airports we are interested in: based on https://de.wikipedia.org/wiki/Liste_der_Verkehrsflugh%C3%A4fen_in_Deutschland"
      ],
      "metadata": {
        "id": "B8RkI_SjYdke"
      }
    },
    {
      "cell_type": "code",
      "source": [
        "icaolist=[\"EDBH\", \"EDDB\", \"EDVE\", \"EDDW\", \"ETMN\", \"EDLW\", \"EDDC\", \"EDDL\", \"EDDE\", \"EDDF\", \"EDFH\", \"EDNY\", \"EDDH\", \"EDDV\", \"EDAH\", \"ETSI\", \"EDSB\", \"EDVK\",\n",
        "           \"EDDK\", \"EDTL\", \"EDDP\", \"EDHL\", \"EDBC\", \"EDJA\", \"EDDM\", \"EDDG\", \"EDBN\", \"EDLV\", \"EDDN\", \"EDMO\", \"EDLP\", \"ETNL\", \"EDDR\", \"EDGS\", \"EDDS\", \"EDXW\"]\n",
        "# note: it was necessary to split the list in two parts, having one giant list was not supported by the database query\n",
        "print(icaolist)"
      ],
      "metadata": {
        "id": "BjyJBIMtR97R",
        "colab": {
          "base_uri": "https://localhost:8080/"
        },
        "outputId": "97cd64a1-070d-4061-957b-255e68a3f5c1"
      },
      "execution_count": 103,
      "outputs": [
        {
          "output_type": "stream",
          "name": "stdout",
          "text": [
            "['EDBH', 'EDDB', 'EDVE', 'EDDW', 'ETMN', 'EDLW', 'EDDC', 'EDDL', 'EDDE', 'EDDF', 'EDFH', 'EDNY', 'EDDH', 'EDDV', 'EDAH', 'ETSI', 'EDSB', 'EDVK', 'EDDK', 'EDTL', 'EDDP', 'EDHL', 'EDBC', 'EDJA', 'EDDM', 'EDDG', 'EDBN', 'EDLV', 'EDDN', 'EDMO', 'EDLP', 'ETNL', 'EDDR', 'EDGS', 'EDDS', 'EDXW']\n"
          ]
        }
      ]
    },
    {
      "cell_type": "markdown",
      "source": [
        "First test: let's get the flightlist of all flights starting at any airport from the list"
      ],
      "metadata": {
        "id": "d7P9_mL_dVK6"
      }
    },
    {
      "cell_type": "markdown",
      "source": [
        " The syntax is:\n",
        " OpenSky.flightlist(start, stop=None, *args, departure_airport=None, arrival_airport=None, airport=None, callsign=None, icao24=None, cached=True, compress=False, limit=None, **kwargs)"
      ],
      "metadata": {
        "id": "egEJ7zLEeOqv"
      }
    },
    {
      "cell_type": "code",
      "source": [
        "# time range to retrieve (note: it seems stopdate is exclusive)\n",
        "startdate=\"2019-12-01\"\n",
        "stopdate=\"2020-01-01\""
      ],
      "metadata": {
        "id": "SgERDM7YcovZ"
      },
      "execution_count": 136,
      "outputs": []
    },
    {
      "cell_type": "code",
      "source": [],
      "metadata": {
        "id": "68lKsFWLo_Cg"
      },
      "execution_count": 136,
      "outputs": []
    },
    {
      "cell_type": "code",
      "source": [
        "pdDeparture = opensky.flightlist(\n",
        "    startdate,\n",
        "    stopdate,\n",
        "    departure_airport=icaolist,\n",
        ")\n"
      ],
      "metadata": {
        "id": "81K8RL5rcfpX",
        "colab": {
          "base_uri": "https://localhost:8080/"
        },
        "outputId": "6e5bb046-28bd-4f98-9476-c3890363541d"
      },
      "execution_count": 137,
      "outputs": [
        {
          "output_type": "stream",
          "name": "stderr",
          "text": [
            "WARNING:pyopensky.trino:No credentials provided, falling back to browser authentication\n"
          ]
        },
        {
          "output_type": "stream",
          "name": "stdout",
          "text": [
            "Open the following URL in browser for the external authentication:\n",
            "https://trino.opensky-network.org/oauth2/token/initiate/d5faade412f4a6a9715deae3b16b63005e27f0af9d976f5d8e716d48bd634bfe\n"
          ]
        },
        {
          "output_type": "stream",
          "name": "stderr",
          "text": [
            "FINISHED: : 100% [00:22, 4.51%/s]\n",
            "DOWNLOAD: 64.5klines [00:05, 11.2klines/s]\n"
          ]
        }
      ]
    },
    {
      "cell_type": "code",
      "source": [
        "print(f'retrieved {len(pdDeparture)} flights departing at any of the selected airports')\n"
      ],
      "metadata": {
        "colab": {
          "base_uri": "https://localhost:8080/"
        },
        "id": "FcB1ziyRioKT",
        "outputId": "8555c4b6-4fcf-46ec-f572-a2e3adad5fbf"
      },
      "execution_count": 138,
      "outputs": [
        {
          "output_type": "stream",
          "name": "stdout",
          "text": [
            "retrieved 64491 flights departing at any of the selected airports\n"
          ]
        }
      ]
    },
    {
      "cell_type": "code",
      "source": [
        "pdArrival = opensky.flightlist(\n",
        "    startdate,\n",
        "    stopdate,\n",
        "    arrival_airport=icaolist,\n",
        ")\n"
      ],
      "metadata": {
        "id": "ikOig5asdVYm",
        "colab": {
          "base_uri": "https://localhost:8080/"
        },
        "outputId": "9cc665d2-a914-45a1-dc58-74592fcee9f6"
      },
      "execution_count": 139,
      "outputs": [
        {
          "output_type": "stream",
          "name": "stderr",
          "text": [
            "WARNING:pyopensky.trino:No credentials provided, falling back to browser authentication\n"
          ]
        },
        {
          "output_type": "stream",
          "name": "stdout",
          "text": [
            "Open the following URL in browser for the external authentication:\n",
            "https://trino.opensky-network.org/oauth2/token/initiate/ddd22ab27d78cec00da6099a6de04c025a3ae4ecbdbb474d66cabcec7edab48d\n"
          ]
        },
        {
          "output_type": "stream",
          "name": "stderr",
          "text": [
            "FINISHED: : 100% [00:23, 4.33%/s]\n",
            "DOWNLOAD: 65.2klines [00:05, 11.0klines/s]\n"
          ]
        }
      ]
    },
    {
      "cell_type": "code",
      "source": [
        "print(f'retrieved {len(pdArrival)} flights arriving at any of the selected airports')"
      ],
      "metadata": {
        "colab": {
          "base_uri": "https://localhost:8080/"
        },
        "id": "G9rwQJwXjEnR",
        "outputId": "12d392f7-45b2-489a-e9db-77039de7d1a0"
      },
      "execution_count": 140,
      "outputs": [
        {
          "output_type": "stream",
          "name": "stdout",
          "text": [
            "retrieved 65178 flights arriving at any of the selected airports\n"
          ]
        }
      ]
    },
    {
      "cell_type": "markdown",
      "source": [
        "Now combine the two, while dropping duplicate rows (i.e. flights start went from one airport to another on the list should only be listed once)."
      ],
      "metadata": {
        "id": "4wg5y1jvjUTb"
      }
    },
    {
      "cell_type": "markdown",
      "source": [
        "Output the (beginning and the )end of the retrieved dataframe"
      ],
      "metadata": {
        "id": "JJP9-YpFe4kq"
      }
    },
    {
      "cell_type": "code",
      "source": [
        "pdAll = pd.concat([pdDeparture, pdArrival]).drop_duplicates().reset_index(drop=True)"
      ],
      "metadata": {
        "id": "LCz4eQMJjduI"
      },
      "execution_count": 153,
      "outputs": []
    },
    {
      "cell_type": "code",
      "source": [
        "print(f'retrieved {len(pdAll)} flights departing or arriving at any of the selected airports')"
      ],
      "metadata": {
        "colab": {
          "base_uri": "https://localhost:8080/"
        },
        "id": "GA4pL5-3jssi",
        "outputId": "1e5d0a4a-3b37-4cc8-dfa4-57409bae7cf0"
      },
      "execution_count": 154,
      "outputs": [
        {
          "output_type": "stream",
          "name": "stdout",
          "text": [
            "retrieved 115935 flights departing or arriving at any of the selected airports\n"
          ]
        }
      ]
    },
    {
      "cell_type": "markdown",
      "source": [
        "Just a quick look how the information inside the data frame looks like"
      ],
      "metadata": {
        "id": "_9vNyeSajzIu"
      }
    },
    {
      "cell_type": "code",
      "source": [
        "pdAll.tail()"
      ],
      "metadata": {
        "colab": {
          "base_uri": "https://localhost:8080/",
          "height": 206
        },
        "id": "PpU3DnTAfJfC",
        "outputId": "fe2b1442-744e-45d0-a848-a6d9adfcc698"
      },
      "execution_count": 155,
      "outputs": [
        {
          "output_type": "execute_result",
          "data": {
            "text/plain": [
              "        icao24                  firstseen departure  \\\n",
              "115930  4690ec  2019-12-04 07:05:32+00:00      <NA>   \n",
              "115931  471eaa  2019-12-04 08:57:37+00:00      <NA>   \n",
              "115932  471eaa  2019-12-04 04:27:57+00:00      <NA>   \n",
              "115933  3c648a  2019-12-04 10:01:10+00:00      EDDT   \n",
              "115934  3e2535  2019-12-04 16:22:03+00:00      <NA>   \n",
              "\n",
              "                         lastseen arrival callsign                        day  \n",
              "115930  2019-12-04 08:18:27+00:00    EDDM   AEE5CM  2019-12-04 00:00:00+00:00  \n",
              "115931  2019-12-04 10:06:24+00:00    EDDB  WZZ6769  2019-12-04 00:00:00+00:00  \n",
              "115932  2019-12-04 05:40:53+00:00    EDDB   WZZ435  2019-12-04 00:00:00+00:00  \n",
              "115933  2019-12-04 10:59:19+00:00    EDDF   DLH039  2019-12-04 00:00:00+00:00  \n",
              "115934  2019-12-04 17:41:04+00:00    EDDS    EFD2D  2019-12-04 00:00:00+00:00  "
            ],
            "text/html": [
              "\n",
              "  <div id=\"df-b70fed0f-5c44-4f8a-b60c-dc21c4aeb727\" class=\"colab-df-container\">\n",
              "    <div>\n",
              "<style scoped>\n",
              "    .dataframe tbody tr th:only-of-type {\n",
              "        vertical-align: middle;\n",
              "    }\n",
              "\n",
              "    .dataframe tbody tr th {\n",
              "        vertical-align: top;\n",
              "    }\n",
              "\n",
              "    .dataframe thead th {\n",
              "        text-align: right;\n",
              "    }\n",
              "</style>\n",
              "<table border=\"1\" class=\"dataframe\">\n",
              "  <thead>\n",
              "    <tr style=\"text-align: right;\">\n",
              "      <th></th>\n",
              "      <th>icao24</th>\n",
              "      <th>firstseen</th>\n",
              "      <th>departure</th>\n",
              "      <th>lastseen</th>\n",
              "      <th>arrival</th>\n",
              "      <th>callsign</th>\n",
              "      <th>day</th>\n",
              "    </tr>\n",
              "  </thead>\n",
              "  <tbody>\n",
              "    <tr>\n",
              "      <th>115930</th>\n",
              "      <td>4690ec</td>\n",
              "      <td>2019-12-04 07:05:32+00:00</td>\n",
              "      <td>&lt;NA&gt;</td>\n",
              "      <td>2019-12-04 08:18:27+00:00</td>\n",
              "      <td>EDDM</td>\n",
              "      <td>AEE5CM</td>\n",
              "      <td>2019-12-04 00:00:00+00:00</td>\n",
              "    </tr>\n",
              "    <tr>\n",
              "      <th>115931</th>\n",
              "      <td>471eaa</td>\n",
              "      <td>2019-12-04 08:57:37+00:00</td>\n",
              "      <td>&lt;NA&gt;</td>\n",
              "      <td>2019-12-04 10:06:24+00:00</td>\n",
              "      <td>EDDB</td>\n",
              "      <td>WZZ6769</td>\n",
              "      <td>2019-12-04 00:00:00+00:00</td>\n",
              "    </tr>\n",
              "    <tr>\n",
              "      <th>115932</th>\n",
              "      <td>471eaa</td>\n",
              "      <td>2019-12-04 04:27:57+00:00</td>\n",
              "      <td>&lt;NA&gt;</td>\n",
              "      <td>2019-12-04 05:40:53+00:00</td>\n",
              "      <td>EDDB</td>\n",
              "      <td>WZZ435</td>\n",
              "      <td>2019-12-04 00:00:00+00:00</td>\n",
              "    </tr>\n",
              "    <tr>\n",
              "      <th>115933</th>\n",
              "      <td>3c648a</td>\n",
              "      <td>2019-12-04 10:01:10+00:00</td>\n",
              "      <td>EDDT</td>\n",
              "      <td>2019-12-04 10:59:19+00:00</td>\n",
              "      <td>EDDF</td>\n",
              "      <td>DLH039</td>\n",
              "      <td>2019-12-04 00:00:00+00:00</td>\n",
              "    </tr>\n",
              "    <tr>\n",
              "      <th>115934</th>\n",
              "      <td>3e2535</td>\n",
              "      <td>2019-12-04 16:22:03+00:00</td>\n",
              "      <td>&lt;NA&gt;</td>\n",
              "      <td>2019-12-04 17:41:04+00:00</td>\n",
              "      <td>EDDS</td>\n",
              "      <td>EFD2D</td>\n",
              "      <td>2019-12-04 00:00:00+00:00</td>\n",
              "    </tr>\n",
              "  </tbody>\n",
              "</table>\n",
              "</div>\n",
              "    <div class=\"colab-df-buttons\">\n",
              "\n",
              "  <div class=\"colab-df-container\">\n",
              "    <button class=\"colab-df-convert\" onclick=\"convertToInteractive('df-b70fed0f-5c44-4f8a-b60c-dc21c4aeb727')\"\n",
              "            title=\"Convert this dataframe to an interactive table.\"\n",
              "            style=\"display:none;\">\n",
              "\n",
              "  <svg xmlns=\"http://www.w3.org/2000/svg\" height=\"24px\" viewBox=\"0 -960 960 960\">\n",
              "    <path d=\"M120-120v-720h720v720H120Zm60-500h600v-160H180v160Zm220 220h160v-160H400v160Zm0 220h160v-160H400v160ZM180-400h160v-160H180v160Zm440 0h160v-160H620v160ZM180-180h160v-160H180v160Zm440 0h160v-160H620v160Z\"/>\n",
              "  </svg>\n",
              "    </button>\n",
              "\n",
              "  <style>\n",
              "    .colab-df-container {\n",
              "      display:flex;\n",
              "      gap: 12px;\n",
              "    }\n",
              "\n",
              "    .colab-df-convert {\n",
              "      background-color: #E8F0FE;\n",
              "      border: none;\n",
              "      border-radius: 50%;\n",
              "      cursor: pointer;\n",
              "      display: none;\n",
              "      fill: #1967D2;\n",
              "      height: 32px;\n",
              "      padding: 0 0 0 0;\n",
              "      width: 32px;\n",
              "    }\n",
              "\n",
              "    .colab-df-convert:hover {\n",
              "      background-color: #E2EBFA;\n",
              "      box-shadow: 0px 1px 2px rgba(60, 64, 67, 0.3), 0px 1px 3px 1px rgba(60, 64, 67, 0.15);\n",
              "      fill: #174EA6;\n",
              "    }\n",
              "\n",
              "    .colab-df-buttons div {\n",
              "      margin-bottom: 4px;\n",
              "    }\n",
              "\n",
              "    [theme=dark] .colab-df-convert {\n",
              "      background-color: #3B4455;\n",
              "      fill: #D2E3FC;\n",
              "    }\n",
              "\n",
              "    [theme=dark] .colab-df-convert:hover {\n",
              "      background-color: #434B5C;\n",
              "      box-shadow: 0px 1px 3px 1px rgba(0, 0, 0, 0.15);\n",
              "      filter: drop-shadow(0px 1px 2px rgba(0, 0, 0, 0.3));\n",
              "      fill: #FFFFFF;\n",
              "    }\n",
              "  </style>\n",
              "\n",
              "    <script>\n",
              "      const buttonEl =\n",
              "        document.querySelector('#df-b70fed0f-5c44-4f8a-b60c-dc21c4aeb727 button.colab-df-convert');\n",
              "      buttonEl.style.display =\n",
              "        google.colab.kernel.accessAllowed ? 'block' : 'none';\n",
              "\n",
              "      async function convertToInteractive(key) {\n",
              "        const element = document.querySelector('#df-b70fed0f-5c44-4f8a-b60c-dc21c4aeb727');\n",
              "        const dataTable =\n",
              "          await google.colab.kernel.invokeFunction('convertToInteractive',\n",
              "                                                    [key], {});\n",
              "        if (!dataTable) return;\n",
              "\n",
              "        const docLinkHtml = 'Like what you see? Visit the ' +\n",
              "          '<a target=\"_blank\" href=https://colab.research.google.com/notebooks/data_table.ipynb>data table notebook</a>'\n",
              "          + ' to learn more about interactive tables.';\n",
              "        element.innerHTML = '';\n",
              "        dataTable['output_type'] = 'display_data';\n",
              "        await google.colab.output.renderOutput(dataTable, element);\n",
              "        const docLink = document.createElement('div');\n",
              "        docLink.innerHTML = docLinkHtml;\n",
              "        element.appendChild(docLink);\n",
              "      }\n",
              "    </script>\n",
              "  </div>\n",
              "\n",
              "\n",
              "<div id=\"df-de27688d-321d-432f-9e05-ea0b964209a3\">\n",
              "  <button class=\"colab-df-quickchart\" onclick=\"quickchart('df-de27688d-321d-432f-9e05-ea0b964209a3')\"\n",
              "            title=\"Suggest charts\"\n",
              "            style=\"display:none;\">\n",
              "\n",
              "<svg xmlns=\"http://www.w3.org/2000/svg\" height=\"24px\"viewBox=\"0 0 24 24\"\n",
              "     width=\"24px\">\n",
              "    <g>\n",
              "        <path d=\"M19 3H5c-1.1 0-2 .9-2 2v14c0 1.1.9 2 2 2h14c1.1 0 2-.9 2-2V5c0-1.1-.9-2-2-2zM9 17H7v-7h2v7zm4 0h-2V7h2v10zm4 0h-2v-4h2v4z\"/>\n",
              "    </g>\n",
              "</svg>\n",
              "  </button>\n",
              "\n",
              "<style>\n",
              "  .colab-df-quickchart {\n",
              "      --bg-color: #E8F0FE;\n",
              "      --fill-color: #1967D2;\n",
              "      --hover-bg-color: #E2EBFA;\n",
              "      --hover-fill-color: #174EA6;\n",
              "      --disabled-fill-color: #AAA;\n",
              "      --disabled-bg-color: #DDD;\n",
              "  }\n",
              "\n",
              "  [theme=dark] .colab-df-quickchart {\n",
              "      --bg-color: #3B4455;\n",
              "      --fill-color: #D2E3FC;\n",
              "      --hover-bg-color: #434B5C;\n",
              "      --hover-fill-color: #FFFFFF;\n",
              "      --disabled-bg-color: #3B4455;\n",
              "      --disabled-fill-color: #666;\n",
              "  }\n",
              "\n",
              "  .colab-df-quickchart {\n",
              "    background-color: var(--bg-color);\n",
              "    border: none;\n",
              "    border-radius: 50%;\n",
              "    cursor: pointer;\n",
              "    display: none;\n",
              "    fill: var(--fill-color);\n",
              "    height: 32px;\n",
              "    padding: 0;\n",
              "    width: 32px;\n",
              "  }\n",
              "\n",
              "  .colab-df-quickchart:hover {\n",
              "    background-color: var(--hover-bg-color);\n",
              "    box-shadow: 0 1px 2px rgba(60, 64, 67, 0.3), 0 1px 3px 1px rgba(60, 64, 67, 0.15);\n",
              "    fill: var(--button-hover-fill-color);\n",
              "  }\n",
              "\n",
              "  .colab-df-quickchart-complete:disabled,\n",
              "  .colab-df-quickchart-complete:disabled:hover {\n",
              "    background-color: var(--disabled-bg-color);\n",
              "    fill: var(--disabled-fill-color);\n",
              "    box-shadow: none;\n",
              "  }\n",
              "\n",
              "  .colab-df-spinner {\n",
              "    border: 2px solid var(--fill-color);\n",
              "    border-color: transparent;\n",
              "    border-bottom-color: var(--fill-color);\n",
              "    animation:\n",
              "      spin 1s steps(1) infinite;\n",
              "  }\n",
              "\n",
              "  @keyframes spin {\n",
              "    0% {\n",
              "      border-color: transparent;\n",
              "      border-bottom-color: var(--fill-color);\n",
              "      border-left-color: var(--fill-color);\n",
              "    }\n",
              "    20% {\n",
              "      border-color: transparent;\n",
              "      border-left-color: var(--fill-color);\n",
              "      border-top-color: var(--fill-color);\n",
              "    }\n",
              "    30% {\n",
              "      border-color: transparent;\n",
              "      border-left-color: var(--fill-color);\n",
              "      border-top-color: var(--fill-color);\n",
              "      border-right-color: var(--fill-color);\n",
              "    }\n",
              "    40% {\n",
              "      border-color: transparent;\n",
              "      border-right-color: var(--fill-color);\n",
              "      border-top-color: var(--fill-color);\n",
              "    }\n",
              "    60% {\n",
              "      border-color: transparent;\n",
              "      border-right-color: var(--fill-color);\n",
              "    }\n",
              "    80% {\n",
              "      border-color: transparent;\n",
              "      border-right-color: var(--fill-color);\n",
              "      border-bottom-color: var(--fill-color);\n",
              "    }\n",
              "    90% {\n",
              "      border-color: transparent;\n",
              "      border-bottom-color: var(--fill-color);\n",
              "    }\n",
              "  }\n",
              "</style>\n",
              "\n",
              "  <script>\n",
              "    async function quickchart(key) {\n",
              "      const quickchartButtonEl =\n",
              "        document.querySelector('#' + key + ' button');\n",
              "      quickchartButtonEl.disabled = true;  // To prevent multiple clicks.\n",
              "      quickchartButtonEl.classList.add('colab-df-spinner');\n",
              "      try {\n",
              "        const charts = await google.colab.kernel.invokeFunction(\n",
              "            'suggestCharts', [key], {});\n",
              "      } catch (error) {\n",
              "        console.error('Error during call to suggestCharts:', error);\n",
              "      }\n",
              "      quickchartButtonEl.classList.remove('colab-df-spinner');\n",
              "      quickchartButtonEl.classList.add('colab-df-quickchart-complete');\n",
              "    }\n",
              "    (() => {\n",
              "      let quickchartButtonEl =\n",
              "        document.querySelector('#df-de27688d-321d-432f-9e05-ea0b964209a3 button');\n",
              "      quickchartButtonEl.style.display =\n",
              "        google.colab.kernel.accessAllowed ? 'block' : 'none';\n",
              "    })();\n",
              "  </script>\n",
              "</div>\n",
              "\n",
              "    </div>\n",
              "  </div>\n"
            ],
            "application/vnd.google.colaboratory.intrinsic+json": {
              "type": "dataframe",
              "summary": "{\n  \"name\": \"pdAll\",\n  \"rows\": 5,\n  \"fields\": [\n    {\n      \"column\": \"icao24\",\n      \"properties\": {\n        \"dtype\": \"string[pyarrow]\",\n        \"num_unique_values\": 4,\n        \"samples\": [\n          \"471eaa\",\n          \"3e2535\",\n          \"4690ec\"\n        ],\n        \"semantic_type\": \"\",\n        \"description\": \"\"\n      }\n    },\n    {\n      \"column\": \"firstseen\",\n      \"properties\": {\n        \"dtype\": \"timestamp[ns, tz=UTC][pyarrow]\",\n        \"num_unique_values\": 5,\n        \"samples\": [\n          \"2019-12-04 08:57:37+00:00\",\n          \"2019-12-04 16:22:03+00:00\",\n          \"2019-12-04 04:27:57+00:00\"\n        ],\n        \"semantic_type\": \"\",\n        \"description\": \"\"\n      }\n    },\n    {\n      \"column\": \"departure\",\n      \"properties\": {\n        \"dtype\": \"string[pyarrow]\",\n        \"num_unique_values\": 1,\n        \"samples\": [\n          \"EDDT\"\n        ],\n        \"semantic_type\": \"\",\n        \"description\": \"\"\n      }\n    },\n    {\n      \"column\": \"lastseen\",\n      \"properties\": {\n        \"dtype\": \"timestamp[ns, tz=UTC][pyarrow]\",\n        \"num_unique_values\": 5,\n        \"samples\": [\n          \"2019-12-04 10:06:24+00:00\"\n        ],\n        \"semantic_type\": \"\",\n        \"description\": \"\"\n      }\n    },\n    {\n      \"column\": \"arrival\",\n      \"properties\": {\n        \"dtype\": \"string[pyarrow]\",\n        \"num_unique_values\": 4,\n        \"samples\": [\n          \"EDDB\"\n        ],\n        \"semantic_type\": \"\",\n        \"description\": \"\"\n      }\n    },\n    {\n      \"column\": \"callsign\",\n      \"properties\": {\n        \"dtype\": \"string[pyarrow]\",\n        \"num_unique_values\": 5,\n        \"samples\": [\n          \"WZZ6769\"\n        ],\n        \"semantic_type\": \"\",\n        \"description\": \"\"\n      }\n    },\n    {\n      \"column\": \"day\",\n      \"properties\": {\n        \"dtype\": \"timestamp[ns, tz=UTC][pyarrow]\",\n        \"num_unique_values\": 1,\n        \"samples\": [\n          \"2019-12-04 00:00:00+00:00\"\n        ],\n        \"semantic_type\": \"\",\n        \"description\": \"\"\n      }\n    }\n  ]\n}"
            }
          },
          "metadata": {},
          "execution_count": 155
        }
      ]
    },
    {
      "cell_type": "markdown",
      "source": [
        "Sort the data frame by departure time"
      ],
      "metadata": {
        "id": "1Pw3_5pCpDA1"
      }
    },
    {
      "cell_type": "code",
      "source": [
        "pdSorted = pdAll.sort_values(by=['day'])\n",
        "pdSorted.tail()\n"
      ],
      "metadata": {
        "colab": {
          "base_uri": "https://localhost:8080/",
          "height": 206
        },
        "id": "QTGdZ5RepL9v",
        "outputId": "8c82d0eb-b2ee-45b0-d72c-49441015033f"
      },
      "execution_count": 160,
      "outputs": [
        {
          "output_type": "execute_result",
          "data": {
            "text/plain": [
              "        icao24                  firstseen departure  \\\n",
              "110798  407536  2019-12-31 17:37:45+00:00      EGLL   \n",
              "110799  3c65c1  2019-12-31 14:07:52+00:00      EDDT   \n",
              "110800  3c66e2  2019-12-31 12:01:37+00:00      <NA>   \n",
              "110801  4b1a65  2019-12-31 17:16:19+00:00      LSGG   \n",
              "110802  4bcde3  2019-12-31 08:28:17+00:00      <NA>   \n",
              "\n",
              "                         lastseen arrival callsign                        day  \n",
              "110798  2019-12-31 18:28:19+00:00    EDDL   BAW932  2019-12-31 00:00:00+00:00  \n",
              "110799  2019-12-31 15:04:45+00:00    EDDF   DLH5CK  2019-12-31 00:00:00+00:00  \n",
              "110800  2019-12-31 13:28:13+00:00    EDDM   DLH5TN  2019-12-31 00:00:00+00:00  \n",
              "110801  2019-12-31 18:40:24+00:00    EDDH  EZS85BF  2019-12-31 00:00:00+00:00  \n",
              "110802  2019-12-31 11:25:27+00:00    EDDS   SXS4WK  2019-12-31 00:00:00+00:00  "
            ],
            "text/html": [
              "\n",
              "  <div id=\"df-feab118b-225b-4754-8cc2-936df3920b83\" class=\"colab-df-container\">\n",
              "    <div>\n",
              "<style scoped>\n",
              "    .dataframe tbody tr th:only-of-type {\n",
              "        vertical-align: middle;\n",
              "    }\n",
              "\n",
              "    .dataframe tbody tr th {\n",
              "        vertical-align: top;\n",
              "    }\n",
              "\n",
              "    .dataframe thead th {\n",
              "        text-align: right;\n",
              "    }\n",
              "</style>\n",
              "<table border=\"1\" class=\"dataframe\">\n",
              "  <thead>\n",
              "    <tr style=\"text-align: right;\">\n",
              "      <th></th>\n",
              "      <th>icao24</th>\n",
              "      <th>firstseen</th>\n",
              "      <th>departure</th>\n",
              "      <th>lastseen</th>\n",
              "      <th>arrival</th>\n",
              "      <th>callsign</th>\n",
              "      <th>day</th>\n",
              "    </tr>\n",
              "  </thead>\n",
              "  <tbody>\n",
              "    <tr>\n",
              "      <th>110798</th>\n",
              "      <td>407536</td>\n",
              "      <td>2019-12-31 17:37:45+00:00</td>\n",
              "      <td>EGLL</td>\n",
              "      <td>2019-12-31 18:28:19+00:00</td>\n",
              "      <td>EDDL</td>\n",
              "      <td>BAW932</td>\n",
              "      <td>2019-12-31 00:00:00+00:00</td>\n",
              "    </tr>\n",
              "    <tr>\n",
              "      <th>110799</th>\n",
              "      <td>3c65c1</td>\n",
              "      <td>2019-12-31 14:07:52+00:00</td>\n",
              "      <td>EDDT</td>\n",
              "      <td>2019-12-31 15:04:45+00:00</td>\n",
              "      <td>EDDF</td>\n",
              "      <td>DLH5CK</td>\n",
              "      <td>2019-12-31 00:00:00+00:00</td>\n",
              "    </tr>\n",
              "    <tr>\n",
              "      <th>110800</th>\n",
              "      <td>3c66e2</td>\n",
              "      <td>2019-12-31 12:01:37+00:00</td>\n",
              "      <td>&lt;NA&gt;</td>\n",
              "      <td>2019-12-31 13:28:13+00:00</td>\n",
              "      <td>EDDM</td>\n",
              "      <td>DLH5TN</td>\n",
              "      <td>2019-12-31 00:00:00+00:00</td>\n",
              "    </tr>\n",
              "    <tr>\n",
              "      <th>110801</th>\n",
              "      <td>4b1a65</td>\n",
              "      <td>2019-12-31 17:16:19+00:00</td>\n",
              "      <td>LSGG</td>\n",
              "      <td>2019-12-31 18:40:24+00:00</td>\n",
              "      <td>EDDH</td>\n",
              "      <td>EZS85BF</td>\n",
              "      <td>2019-12-31 00:00:00+00:00</td>\n",
              "    </tr>\n",
              "    <tr>\n",
              "      <th>110802</th>\n",
              "      <td>4bcde3</td>\n",
              "      <td>2019-12-31 08:28:17+00:00</td>\n",
              "      <td>&lt;NA&gt;</td>\n",
              "      <td>2019-12-31 11:25:27+00:00</td>\n",
              "      <td>EDDS</td>\n",
              "      <td>SXS4WK</td>\n",
              "      <td>2019-12-31 00:00:00+00:00</td>\n",
              "    </tr>\n",
              "  </tbody>\n",
              "</table>\n",
              "</div>\n",
              "    <div class=\"colab-df-buttons\">\n",
              "\n",
              "  <div class=\"colab-df-container\">\n",
              "    <button class=\"colab-df-convert\" onclick=\"convertToInteractive('df-feab118b-225b-4754-8cc2-936df3920b83')\"\n",
              "            title=\"Convert this dataframe to an interactive table.\"\n",
              "            style=\"display:none;\">\n",
              "\n",
              "  <svg xmlns=\"http://www.w3.org/2000/svg\" height=\"24px\" viewBox=\"0 -960 960 960\">\n",
              "    <path d=\"M120-120v-720h720v720H120Zm60-500h600v-160H180v160Zm220 220h160v-160H400v160Zm0 220h160v-160H400v160ZM180-400h160v-160H180v160Zm440 0h160v-160H620v160ZM180-180h160v-160H180v160Zm440 0h160v-160H620v160Z\"/>\n",
              "  </svg>\n",
              "    </button>\n",
              "\n",
              "  <style>\n",
              "    .colab-df-container {\n",
              "      display:flex;\n",
              "      gap: 12px;\n",
              "    }\n",
              "\n",
              "    .colab-df-convert {\n",
              "      background-color: #E8F0FE;\n",
              "      border: none;\n",
              "      border-radius: 50%;\n",
              "      cursor: pointer;\n",
              "      display: none;\n",
              "      fill: #1967D2;\n",
              "      height: 32px;\n",
              "      padding: 0 0 0 0;\n",
              "      width: 32px;\n",
              "    }\n",
              "\n",
              "    .colab-df-convert:hover {\n",
              "      background-color: #E2EBFA;\n",
              "      box-shadow: 0px 1px 2px rgba(60, 64, 67, 0.3), 0px 1px 3px 1px rgba(60, 64, 67, 0.15);\n",
              "      fill: #174EA6;\n",
              "    }\n",
              "\n",
              "    .colab-df-buttons div {\n",
              "      margin-bottom: 4px;\n",
              "    }\n",
              "\n",
              "    [theme=dark] .colab-df-convert {\n",
              "      background-color: #3B4455;\n",
              "      fill: #D2E3FC;\n",
              "    }\n",
              "\n",
              "    [theme=dark] .colab-df-convert:hover {\n",
              "      background-color: #434B5C;\n",
              "      box-shadow: 0px 1px 3px 1px rgba(0, 0, 0, 0.15);\n",
              "      filter: drop-shadow(0px 1px 2px rgba(0, 0, 0, 0.3));\n",
              "      fill: #FFFFFF;\n",
              "    }\n",
              "  </style>\n",
              "\n",
              "    <script>\n",
              "      const buttonEl =\n",
              "        document.querySelector('#df-feab118b-225b-4754-8cc2-936df3920b83 button.colab-df-convert');\n",
              "      buttonEl.style.display =\n",
              "        google.colab.kernel.accessAllowed ? 'block' : 'none';\n",
              "\n",
              "      async function convertToInteractive(key) {\n",
              "        const element = document.querySelector('#df-feab118b-225b-4754-8cc2-936df3920b83');\n",
              "        const dataTable =\n",
              "          await google.colab.kernel.invokeFunction('convertToInteractive',\n",
              "                                                    [key], {});\n",
              "        if (!dataTable) return;\n",
              "\n",
              "        const docLinkHtml = 'Like what you see? Visit the ' +\n",
              "          '<a target=\"_blank\" href=https://colab.research.google.com/notebooks/data_table.ipynb>data table notebook</a>'\n",
              "          + ' to learn more about interactive tables.';\n",
              "        element.innerHTML = '';\n",
              "        dataTable['output_type'] = 'display_data';\n",
              "        await google.colab.output.renderOutput(dataTable, element);\n",
              "        const docLink = document.createElement('div');\n",
              "        docLink.innerHTML = docLinkHtml;\n",
              "        element.appendChild(docLink);\n",
              "      }\n",
              "    </script>\n",
              "  </div>\n",
              "\n",
              "\n",
              "<div id=\"df-975954dc-726e-4ef4-b49f-902c84919226\">\n",
              "  <button class=\"colab-df-quickchart\" onclick=\"quickchart('df-975954dc-726e-4ef4-b49f-902c84919226')\"\n",
              "            title=\"Suggest charts\"\n",
              "            style=\"display:none;\">\n",
              "\n",
              "<svg xmlns=\"http://www.w3.org/2000/svg\" height=\"24px\"viewBox=\"0 0 24 24\"\n",
              "     width=\"24px\">\n",
              "    <g>\n",
              "        <path d=\"M19 3H5c-1.1 0-2 .9-2 2v14c0 1.1.9 2 2 2h14c1.1 0 2-.9 2-2V5c0-1.1-.9-2-2-2zM9 17H7v-7h2v7zm4 0h-2V7h2v10zm4 0h-2v-4h2v4z\"/>\n",
              "    </g>\n",
              "</svg>\n",
              "  </button>\n",
              "\n",
              "<style>\n",
              "  .colab-df-quickchart {\n",
              "      --bg-color: #E8F0FE;\n",
              "      --fill-color: #1967D2;\n",
              "      --hover-bg-color: #E2EBFA;\n",
              "      --hover-fill-color: #174EA6;\n",
              "      --disabled-fill-color: #AAA;\n",
              "      --disabled-bg-color: #DDD;\n",
              "  }\n",
              "\n",
              "  [theme=dark] .colab-df-quickchart {\n",
              "      --bg-color: #3B4455;\n",
              "      --fill-color: #D2E3FC;\n",
              "      --hover-bg-color: #434B5C;\n",
              "      --hover-fill-color: #FFFFFF;\n",
              "      --disabled-bg-color: #3B4455;\n",
              "      --disabled-fill-color: #666;\n",
              "  }\n",
              "\n",
              "  .colab-df-quickchart {\n",
              "    background-color: var(--bg-color);\n",
              "    border: none;\n",
              "    border-radius: 50%;\n",
              "    cursor: pointer;\n",
              "    display: none;\n",
              "    fill: var(--fill-color);\n",
              "    height: 32px;\n",
              "    padding: 0;\n",
              "    width: 32px;\n",
              "  }\n",
              "\n",
              "  .colab-df-quickchart:hover {\n",
              "    background-color: var(--hover-bg-color);\n",
              "    box-shadow: 0 1px 2px rgba(60, 64, 67, 0.3), 0 1px 3px 1px rgba(60, 64, 67, 0.15);\n",
              "    fill: var(--button-hover-fill-color);\n",
              "  }\n",
              "\n",
              "  .colab-df-quickchart-complete:disabled,\n",
              "  .colab-df-quickchart-complete:disabled:hover {\n",
              "    background-color: var(--disabled-bg-color);\n",
              "    fill: var(--disabled-fill-color);\n",
              "    box-shadow: none;\n",
              "  }\n",
              "\n",
              "  .colab-df-spinner {\n",
              "    border: 2px solid var(--fill-color);\n",
              "    border-color: transparent;\n",
              "    border-bottom-color: var(--fill-color);\n",
              "    animation:\n",
              "      spin 1s steps(1) infinite;\n",
              "  }\n",
              "\n",
              "  @keyframes spin {\n",
              "    0% {\n",
              "      border-color: transparent;\n",
              "      border-bottom-color: var(--fill-color);\n",
              "      border-left-color: var(--fill-color);\n",
              "    }\n",
              "    20% {\n",
              "      border-color: transparent;\n",
              "      border-left-color: var(--fill-color);\n",
              "      border-top-color: var(--fill-color);\n",
              "    }\n",
              "    30% {\n",
              "      border-color: transparent;\n",
              "      border-left-color: var(--fill-color);\n",
              "      border-top-color: var(--fill-color);\n",
              "      border-right-color: var(--fill-color);\n",
              "    }\n",
              "    40% {\n",
              "      border-color: transparent;\n",
              "      border-right-color: var(--fill-color);\n",
              "      border-top-color: var(--fill-color);\n",
              "    }\n",
              "    60% {\n",
              "      border-color: transparent;\n",
              "      border-right-color: var(--fill-color);\n",
              "    }\n",
              "    80% {\n",
              "      border-color: transparent;\n",
              "      border-right-color: var(--fill-color);\n",
              "      border-bottom-color: var(--fill-color);\n",
              "    }\n",
              "    90% {\n",
              "      border-color: transparent;\n",
              "      border-bottom-color: var(--fill-color);\n",
              "    }\n",
              "  }\n",
              "</style>\n",
              "\n",
              "  <script>\n",
              "    async function quickchart(key) {\n",
              "      const quickchartButtonEl =\n",
              "        document.querySelector('#' + key + ' button');\n",
              "      quickchartButtonEl.disabled = true;  // To prevent multiple clicks.\n",
              "      quickchartButtonEl.classList.add('colab-df-spinner');\n",
              "      try {\n",
              "        const charts = await google.colab.kernel.invokeFunction(\n",
              "            'suggestCharts', [key], {});\n",
              "      } catch (error) {\n",
              "        console.error('Error during call to suggestCharts:', error);\n",
              "      }\n",
              "      quickchartButtonEl.classList.remove('colab-df-spinner');\n",
              "      quickchartButtonEl.classList.add('colab-df-quickchart-complete');\n",
              "    }\n",
              "    (() => {\n",
              "      let quickchartButtonEl =\n",
              "        document.querySelector('#df-975954dc-726e-4ef4-b49f-902c84919226 button');\n",
              "      quickchartButtonEl.style.display =\n",
              "        google.colab.kernel.accessAllowed ? 'block' : 'none';\n",
              "    })();\n",
              "  </script>\n",
              "</div>\n",
              "\n",
              "    </div>\n",
              "  </div>\n"
            ],
            "application/vnd.google.colaboratory.intrinsic+json": {
              "type": "dataframe",
              "summary": "{\n  \"name\": \"pdSorted\",\n  \"rows\": 5,\n  \"fields\": [\n    {\n      \"column\": \"icao24\",\n      \"properties\": {\n        \"dtype\": \"string[pyarrow]\",\n        \"num_unique_values\": 5,\n        \"samples\": [\n          \"3c65c1\",\n          \"4bcde3\",\n          \"3c66e2\"\n        ],\n        \"semantic_type\": \"\",\n        \"description\": \"\"\n      }\n    },\n    {\n      \"column\": \"firstseen\",\n      \"properties\": {\n        \"dtype\": \"timestamp[ns, tz=UTC][pyarrow]\",\n        \"num_unique_values\": 5,\n        \"samples\": [\n          \"2019-12-31 14:07:52+00:00\",\n          \"2019-12-31 08:28:17+00:00\",\n          \"2019-12-31 12:01:37+00:00\"\n        ],\n        \"semantic_type\": \"\",\n        \"description\": \"\"\n      }\n    },\n    {\n      \"column\": \"departure\",\n      \"properties\": {\n        \"dtype\": \"string[pyarrow]\",\n        \"num_unique_values\": 3,\n        \"samples\": [\n          \"EGLL\",\n          \"EDDT\",\n          \"LSGG\"\n        ],\n        \"semantic_type\": \"\",\n        \"description\": \"\"\n      }\n    },\n    {\n      \"column\": \"lastseen\",\n      \"properties\": {\n        \"dtype\": \"timestamp[ns, tz=UTC][pyarrow]\",\n        \"num_unique_values\": 5,\n        \"samples\": [\n          \"2019-12-31 15:04:45+00:00\",\n          \"2019-12-31 11:25:27+00:00\",\n          \"2019-12-31 13:28:13+00:00\"\n        ],\n        \"semantic_type\": \"\",\n        \"description\": \"\"\n      }\n    },\n    {\n      \"column\": \"arrival\",\n      \"properties\": {\n        \"dtype\": \"string[pyarrow]\",\n        \"num_unique_values\": 5,\n        \"samples\": [\n          \"EDDF\",\n          \"EDDS\",\n          \"EDDM\"\n        ],\n        \"semantic_type\": \"\",\n        \"description\": \"\"\n      }\n    },\n    {\n      \"column\": \"callsign\",\n      \"properties\": {\n        \"dtype\": \"string[pyarrow]\",\n        \"num_unique_values\": 5,\n        \"samples\": [\n          \"DLH5CK\",\n          \"SXS4WK\",\n          \"DLH5TN\"\n        ],\n        \"semantic_type\": \"\",\n        \"description\": \"\"\n      }\n    },\n    {\n      \"column\": \"day\",\n      \"properties\": {\n        \"dtype\": \"timestamp[ns, tz=UTC][pyarrow]\",\n        \"num_unique_values\": 1,\n        \"samples\": [\n          \"2019-12-31 00:00:00+00:00\"\n        ],\n        \"semantic_type\": \"\",\n        \"description\": \"\"\n      }\n    }\n  ]\n}"
            }
          },
          "metadata": {},
          "execution_count": 160
        }
      ]
    },
    {
      "cell_type": "markdown",
      "source": [
        "Mount google drive to save the resulting csv file"
      ],
      "metadata": {
        "id": "AI6lPwIXkA5n"
      }
    },
    {
      "cell_type": "code",
      "source": [
        "from google.colab import drive\n",
        "drive.mount('/content/drive')\n",
        "\n",
        "import os\n",
        "\n",
        "# where to save the data (and making shure that the directory exist)\n",
        "folder_path = \"/content/drive/My Drive/2024KomplexeNetze/Daten\"\n",
        "if not os.path.exists(folder_path):\n",
        "    os.makedirs(folder_path)\n"
      ],
      "metadata": {
        "colab": {
          "base_uri": "https://localhost:8080/"
        },
        "id": "MWg_iOJHbLON",
        "outputId": "9b3e4ff1-62a5-43d8-f466-90e6821ab312"
      },
      "execution_count": 145,
      "outputs": [
        {
          "output_type": "stream",
          "name": "stdout",
          "text": [
            "Drive already mounted at /content/drive; to attempt to forcibly remount, call drive.mount(\"/content/drive\", force_remount=True).\n"
          ]
        }
      ]
    },
    {
      "cell_type": "markdown",
      "source": [
        "Last step: save the retrieved data into csv, with a name defined by start and stop date."
      ],
      "metadata": {
        "id": "PKlJ-Q_TkJmC"
      }
    },
    {
      "cell_type": "code",
      "source": [
        "outputfile=startdate+\"_\"+stopdate+\".csv\"\n",
        "file_path = os.path.join(folder_path, outputfile)\n",
        "pdSorted.to_csv(file_path, index=False)  # ((saving without the DataFrame index))"
      ],
      "metadata": {
        "id": "t6igyAHBkTka"
      },
      "execution_count": 158,
      "outputs": []
    },
    {
      "cell_type": "code",
      "source": [
        "print(f'Output file has been generated in {file_path}')"
      ],
      "metadata": {
        "colab": {
          "base_uri": "https://localhost:8080/"
        },
        "id": "Wdh60-gvkkte",
        "outputId": "1c7b0eee-0107-44e2-fc66-420349671a80"
      },
      "execution_count": 159,
      "outputs": [
        {
          "output_type": "stream",
          "name": "stdout",
          "text": [
            "Output file has been generated in /content/drive/My Drive/2024KomplexeNetze/Daten/2019-12-01_2020-01-01.csv\n"
          ]
        }
      ]
    },
    {
      "cell_type": "markdown",
      "source": [
        "--------------------------------------\n",
        "Note: if we want, we could also get some airport info from provided by traffic, like geo coordinates, city, name."
      ],
      "metadata": {
        "id": "rbhBe2ALpGab"
      }
    },
    {
      "cell_type": "code",
      "source": [
        "from traffic.data import airports\n",
        "# the command below is also getting Hamburg, USA, and hospital helipads in HH, ...\n",
        "#airports.search(\"Hamburg\")\n"
      ],
      "metadata": {
        "id": "bzwxG0Xrpbyb"
      },
      "execution_count": 148,
      "outputs": []
    },
    {
      "cell_type": "code",
      "source": [
        "airports.query('icao==\"EDDB\" and country==\"Germany\"')"
      ],
      "metadata": {
        "id": "gkeKI_b_paML",
        "colab": {
          "base_uri": "https://localhost:8080/",
          "height": 81
        },
        "outputId": "acf45645-6c35-4fe6-c94c-c343c04fd400"
      },
      "execution_count": 149,
      "outputs": [
        {
          "output_type": "execute_result",
          "data": {
            "text/plain": [
              "<traffic.data.basic.airports.Airports at 0x7dd9876ec820>"
            ],
            "text/html": [
              "<div>\n",
              "<style scoped>\n",
              "    .dataframe tbody tr th:only-of-type {\n",
              "        vertical-align: middle;\n",
              "    }\n",
              "\n",
              "    .dataframe tbody tr th {\n",
              "        vertical-align: top;\n",
              "    }\n",
              "\n",
              "    .dataframe thead th {\n",
              "        text-align: right;\n",
              "    }\n",
              "</style>\n",
              "<table border=\"1\" class=\"dataframe\">\n",
              "  <thead>\n",
              "    <tr style=\"text-align: right;\">\n",
              "      <th></th>\n",
              "      <th>name</th>\n",
              "      <th>iata</th>\n",
              "      <th>icao</th>\n",
              "      <th>latitude</th>\n",
              "      <th>longitude</th>\n",
              "      <th>country</th>\n",
              "      <th>altitude</th>\n",
              "      <th>type</th>\n",
              "      <th>municipality</th>\n",
              "    </tr>\n",
              "  </thead>\n",
              "  <tbody>\n",
              "    <tr>\n",
              "      <th>22735</th>\n",
              "      <td>Berlin Brandenburg Airport</td>\n",
              "      <td>BER</td>\n",
              "      <td>EDDB</td>\n",
              "      <td>52.362247</td>\n",
              "      <td>13.500672</td>\n",
              "      <td>Germany</td>\n",
              "      <td>157.0</td>\n",
              "      <td>large_airport</td>\n",
              "      <td>Berlin</td>\n",
              "    </tr>\n",
              "  </tbody>\n",
              "</table>\n",
              "</div>"
            ]
          },
          "metadata": {},
          "execution_count": 149
        }
      ]
    },
    {
      "cell_type": "markdown",
      "source": [
        "I thought about adding this information to the output file - but that would just increase the file size a lot, we can just add that info at the end of the analysis for making nice plots, and work with icao until then."
      ],
      "metadata": {
        "id": "3QyLKl0KlLFk"
      }
    },
    {
      "cell_type": "markdown",
      "source": [
        "TO DO: check the list of airports in the published covid-19 dataset - are they the same airports?\n"
      ],
      "metadata": {
        "id": "S0R3ArDTvJJy"
      }
    },
    {
      "cell_type": "code",
      "source": [],
      "metadata": {
        "id": "gHrXjnIEpjZg"
      },
      "execution_count": 149,
      "outputs": []
    },
    {
      "cell_type": "code",
      "source": [],
      "metadata": {
        "id": "dVQyFfGsVu0R"
      },
      "execution_count": 149,
      "outputs": []
    }
  ]
}