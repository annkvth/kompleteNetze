{
  "nbformat": 4,
  "nbformat_minor": 0,
  "metadata": {
    "colab": {
      "provenance": [],
      "authorship_tag": "ABX9TyPAv2Z039lbWqUGbkAZ/kvQ"
    },
    "kernelspec": {
      "name": "python3",
      "display_name": "Python 3"
    },
    "language_info": {
      "name": "python"
    }
  },
  "cells": [
    {
      "cell_type": "markdown",
      "source": [
        "Code to retrieve data from the opensky database\n",
        "\n",
        "See example from the documentation: https://traffic-viz.github.io/gallery/kaliningrad.html\n",
        "\n",
        "Note: there's no need to store username and password in a config file - the jupyter output will feature a link for trino authentication in a separate browser window"
      ],
      "metadata": {
        "id": "JlUjMrrLV74V"
      }
    },
    {
      "cell_type": "markdown",
      "source": [
        "Installing the traffic python package if necessary\n"
      ],
      "metadata": {
        "id": "ucTdKk6xNuGq"
      }
    },
    {
      "cell_type": "code",
      "source": [
        "!pip install traffic\n",
        "\n"
      ],
      "metadata": {
        "collapsed": true,
        "id": "5S6cAJFrM9N9",
        "colab": {
          "base_uri": "https://localhost:8080/"
        },
        "outputId": "364f840c-5fdb-4f91-d402-c76ebb440dee"
      },
      "execution_count": 66,
      "outputs": [
        {
          "output_type": "stream",
          "name": "stdout",
          "text": [
            "Requirement already satisfied: traffic in /usr/local/lib/python3.10/dist-packages (2.11)\n",
            "Requirement already satisfied: cartes>=0.8.2 in /usr/local/lib/python3.10/dist-packages (from traffic) (0.8.3)\n",
            "Requirement already satisfied: httpx>=0.27.2 in /usr/local/lib/python3.10/dist-packages (from traffic) (0.27.2)\n",
            "Requirement already satisfied: impunity>=1.0.4 in /usr/local/lib/python3.10/dist-packages (from traffic) (1.0.5)\n",
            "Requirement already satisfied: metar>=1.11.0 in /usr/local/lib/python3.10/dist-packages (from traffic) (1.11.0)\n",
            "Requirement already satisfied: onnxruntime>=1.20.0 in /usr/local/lib/python3.10/dist-packages (from traffic) (1.20.1)\n",
            "Requirement already satisfied: openap>=2.0 in /usr/local/lib/python3.10/dist-packages (from traffic) (2.0)\n",
            "Requirement already satisfied: pitot>=0.3.1 in /usr/local/lib/python3.10/dist-packages (from traffic) (0.3.2)\n",
            "Requirement already satisfied: py7zr>=0.22.0 in /usr/local/lib/python3.10/dist-packages (from traffic) (0.22.0)\n",
            "Requirement already satisfied: pyarrow>=18.0.0 in /usr/local/lib/python3.10/dist-packages (from traffic) (18.1.0)\n",
            "Requirement already satisfied: pyopensky>=2.11 in /usr/local/lib/python3.10/dist-packages (from traffic) (2.12)\n",
            "Requirement already satisfied: rich>=13.9.4 in /usr/local/lib/python3.10/dist-packages (from traffic) (13.9.4)\n",
            "Requirement already satisfied: rs1090>=0.3.8 in /usr/local/lib/python3.10/dist-packages (from traffic) (0.3.9)\n",
            "Requirement already satisfied: typing-extensions>=4.12.2 in /usr/local/lib/python3.10/dist-packages (from traffic) (4.12.2)\n",
            "Requirement already satisfied: altair>=5.4.1 in /usr/local/lib/python3.10/dist-packages (from cartes>=0.8.2->traffic) (5.5.0)\n",
            "Requirement already satisfied: appdirs>=1.4.4 in /usr/local/lib/python3.10/dist-packages (from cartes>=0.8.2->traffic) (1.4.4)\n",
            "Requirement already satisfied: beautifulsoup4>=4.12.3 in /usr/local/lib/python3.10/dist-packages (from cartes>=0.8.2->traffic) (4.12.3)\n",
            "Requirement already satisfied: cartopy>=0.24.0 in /usr/local/lib/python3.10/dist-packages (from cartes>=0.8.2->traffic) (0.24.1)\n",
            "Requirement already satisfied: fastapi>=0.115.0 in /usr/local/lib/python3.10/dist-packages (from cartes>=0.8.2->traffic) (0.115.5)\n",
            "Requirement already satisfied: geopandas>=1.0.1 in /usr/local/lib/python3.10/dist-packages (from cartes>=0.8.2->traffic) (1.0.1)\n",
            "Requirement already satisfied: jsonschema>=4.23.0 in /usr/local/lib/python3.10/dist-packages (from cartes>=0.8.2->traffic) (4.23.0)\n",
            "Requirement already satisfied: lxml>=5.3.0 in /usr/local/lib/python3.10/dist-packages (from cartes>=0.8.2->traffic) (5.3.0)\n",
            "Requirement already satisfied: matplotlib>=3.9.2 in /usr/local/lib/python3.10/dist-packages (from cartes>=0.8.2->traffic) (3.9.2)\n",
            "Requirement already satisfied: nest-asyncio>=1.6.0 in /usr/local/lib/python3.10/dist-packages (from cartes>=0.8.2->traffic) (1.6.0)\n",
            "Requirement already satisfied: networkx>=3.2.1 in /usr/local/lib/python3.10/dist-packages (from cartes>=0.8.2->traffic) (3.4.2)\n",
            "Requirement already satisfied: numpy>=2.1.2 in /usr/local/lib/python3.10/dist-packages (from cartes>=0.8.2->traffic) (2.1.3)\n",
            "Requirement already satisfied: pandas>=2.2.3 in /usr/local/lib/python3.10/dist-packages (from cartes>=0.8.2->traffic) (2.2.3)\n",
            "Requirement already satisfied: pyproj>=3.7.0 in /usr/local/lib/python3.10/dist-packages (from cartes>=0.8.2->traffic) (3.7.0)\n",
            "Requirement already satisfied: scipy>=1.14.1 in /usr/local/lib/python3.10/dist-packages (from cartes>=0.8.2->traffic) (1.14.1)\n",
            "Requirement already satisfied: shapely>=2.0.6 in /usr/local/lib/python3.10/dist-packages (from cartes>=0.8.2->traffic) (2.0.6)\n",
            "Requirement already satisfied: tqdm>=4.66.5 in /usr/local/lib/python3.10/dist-packages (from cartes>=0.8.2->traffic) (4.66.6)\n",
            "Requirement already satisfied: uvicorn>=0.31.0 in /usr/local/lib/python3.10/dist-packages (from cartes>=0.8.2->traffic) (0.32.1)\n",
            "Requirement already satisfied: anyio in /usr/local/lib/python3.10/dist-packages (from httpx>=0.27.2->traffic) (3.7.1)\n",
            "Requirement already satisfied: certifi in /usr/local/lib/python3.10/dist-packages (from httpx>=0.27.2->traffic) (2024.8.30)\n",
            "Requirement already satisfied: httpcore==1.* in /usr/local/lib/python3.10/dist-packages (from httpx>=0.27.2->traffic) (1.0.7)\n",
            "Requirement already satisfied: idna in /usr/local/lib/python3.10/dist-packages (from httpx>=0.27.2->traffic) (3.10)\n",
            "Requirement already satisfied: sniffio in /usr/local/lib/python3.10/dist-packages (from httpx>=0.27.2->traffic) (1.3.1)\n",
            "Requirement already satisfied: h11<0.15,>=0.13 in /usr/local/lib/python3.10/dist-packages (from httpcore==1.*->httpx>=0.27.2->traffic) (0.14.0)\n",
            "Requirement already satisfied: astor>=0.8.1 in /usr/local/lib/python3.10/dist-packages (from impunity>=1.0.4->traffic) (0.8.1)\n",
            "Requirement already satisfied: pint>=0.24.4 in /usr/local/lib/python3.10/dist-packages (from impunity>=1.0.4->traffic) (0.24.4)\n",
            "Requirement already satisfied: coloredlogs in /usr/local/lib/python3.10/dist-packages (from onnxruntime>=1.20.0->traffic) (15.0.1)\n",
            "Requirement already satisfied: flatbuffers in /usr/local/lib/python3.10/dist-packages (from onnxruntime>=1.20.0->traffic) (24.3.25)\n",
            "Requirement already satisfied: packaging in /usr/local/lib/python3.10/dist-packages (from onnxruntime>=1.20.0->traffic) (24.2)\n",
            "Requirement already satisfied: protobuf in /usr/local/lib/python3.10/dist-packages (from onnxruntime>=1.20.0->traffic) (4.25.5)\n",
            "Requirement already satisfied: sympy in /usr/local/lib/python3.10/dist-packages (from onnxruntime>=1.20.0->traffic) (1.13.1)\n",
            "Requirement already satisfied: pyyaml>=5.1 in /usr/local/lib/python3.10/dist-packages (from openap>=2.0->traffic) (6.0.2)\n",
            "Requirement already satisfied: texttable in /usr/local/lib/python3.10/dist-packages (from py7zr>=0.22.0->traffic) (1.7.0)\n",
            "Requirement already satisfied: pycryptodomex>=3.16.0 in /usr/local/lib/python3.10/dist-packages (from py7zr>=0.22.0->traffic) (3.21.0)\n",
            "Requirement already satisfied: pyzstd>=0.15.9 in /usr/local/lib/python3.10/dist-packages (from py7zr>=0.22.0->traffic) (0.16.2)\n",
            "Requirement already satisfied: pyppmd<1.2.0,>=1.1.0 in /usr/local/lib/python3.10/dist-packages (from py7zr>=0.22.0->traffic) (1.1.0)\n",
            "Requirement already satisfied: pybcj<1.1.0,>=1.0.0 in /usr/local/lib/python3.10/dist-packages (from py7zr>=0.22.0->traffic) (1.0.2)\n",
            "Requirement already satisfied: multivolumefile>=0.2.3 in /usr/local/lib/python3.10/dist-packages (from py7zr>=0.22.0->traffic) (0.2.3)\n",
            "Requirement already satisfied: inflate64<1.1.0,>=1.0.0 in /usr/local/lib/python3.10/dist-packages (from py7zr>=0.22.0->traffic) (1.0.0)\n",
            "Requirement already satisfied: brotli>=1.1.0 in /usr/local/lib/python3.10/dist-packages (from py7zr>=0.22.0->traffic) (1.1.0)\n",
            "Requirement already satisfied: psutil in /usr/local/lib/python3.10/dist-packages (from py7zr>=0.22.0->traffic) (5.9.5)\n",
            "Requirement already satisfied: minio>=7.2.8 in /usr/local/lib/python3.10/dist-packages (from pyopensky>=2.11->traffic) (7.2.12)\n",
            "Requirement already satisfied: pyjwt>=2.9.0 in /usr/local/lib/python3.10/dist-packages (from pyopensky>=2.11->traffic) (2.10.0)\n",
            "Requirement already satisfied: trino>=0.329.0 in /usr/local/lib/python3.10/dist-packages (from trino[sqlalchemy]>=0.329.0->pyopensky>=2.11->traffic) (0.330.0)\n",
            "Requirement already satisfied: tzdata>=2024.2 in /usr/local/lib/python3.10/dist-packages (from pyopensky>=2.11->traffic) (2024.2)\n",
            "Requirement already satisfied: markdown-it-py>=2.2.0 in /usr/local/lib/python3.10/dist-packages (from rich>=13.9.4->traffic) (3.0.0)\n",
            "Requirement already satisfied: pygments<3.0.0,>=2.13.0 in /usr/local/lib/python3.10/dist-packages (from rich>=13.9.4->traffic) (2.18.0)\n",
            "Requirement already satisfied: jinja2 in /usr/local/lib/python3.10/dist-packages (from altair>=5.4.1->cartes>=0.8.2->traffic) (3.1.4)\n",
            "Requirement already satisfied: narwhals>=1.14.2 in /usr/local/lib/python3.10/dist-packages (from altair>=5.4.1->cartes>=0.8.2->traffic) (1.14.3)\n",
            "Requirement already satisfied: soupsieve>1.2 in /usr/local/lib/python3.10/dist-packages (from beautifulsoup4>=4.12.3->cartes>=0.8.2->traffic) (2.6)\n",
            "Requirement already satisfied: pyshp>=2.3 in /usr/local/lib/python3.10/dist-packages (from cartopy>=0.24.0->cartes>=0.8.2->traffic) (2.3.1)\n",
            "Requirement already satisfied: starlette<0.42.0,>=0.40.0 in /usr/local/lib/python3.10/dist-packages (from fastapi>=0.115.0->cartes>=0.8.2->traffic) (0.41.3)\n",
            "Requirement already satisfied: pydantic!=1.8,!=1.8.1,!=2.0.0,!=2.0.1,!=2.1.0,<3.0.0,>=1.7.4 in /usr/local/lib/python3.10/dist-packages (from fastapi>=0.115.0->cartes>=0.8.2->traffic) (2.9.2)\n",
            "Requirement already satisfied: pyogrio>=0.7.2 in /usr/local/lib/python3.10/dist-packages (from geopandas>=1.0.1->cartes>=0.8.2->traffic) (0.10.0)\n",
            "Requirement already satisfied: h2<5,>=3 in /usr/local/lib/python3.10/dist-packages (from httpx[http2]>=0.27.2->cartes>=0.8.2->traffic) (4.1.0)\n",
            "Requirement already satisfied: attrs>=22.2.0 in /usr/local/lib/python3.10/dist-packages (from jsonschema>=4.23.0->cartes>=0.8.2->traffic) (24.2.0)\n",
            "Requirement already satisfied: jsonschema-specifications>=2023.03.6 in /usr/local/lib/python3.10/dist-packages (from jsonschema>=4.23.0->cartes>=0.8.2->traffic) (2024.10.1)\n",
            "Requirement already satisfied: referencing>=0.28.4 in /usr/local/lib/python3.10/dist-packages (from jsonschema>=4.23.0->cartes>=0.8.2->traffic) (0.35.1)\n",
            "Requirement already satisfied: rpds-py>=0.7.1 in /usr/local/lib/python3.10/dist-packages (from jsonschema>=4.23.0->cartes>=0.8.2->traffic) (0.21.0)\n",
            "Requirement already satisfied: mdurl~=0.1 in /usr/local/lib/python3.10/dist-packages (from markdown-it-py>=2.2.0->rich>=13.9.4->traffic) (0.1.2)\n",
            "Requirement already satisfied: contourpy>=1.0.1 in /usr/local/lib/python3.10/dist-packages (from matplotlib>=3.9.2->cartes>=0.8.2->traffic) (1.3.1)\n",
            "Requirement already satisfied: cycler>=0.10 in /usr/local/lib/python3.10/dist-packages (from matplotlib>=3.9.2->cartes>=0.8.2->traffic) (0.12.1)\n",
            "Requirement already satisfied: fonttools>=4.22.0 in /usr/local/lib/python3.10/dist-packages (from matplotlib>=3.9.2->cartes>=0.8.2->traffic) (4.55.0)\n",
            "Requirement already satisfied: kiwisolver>=1.3.1 in /usr/local/lib/python3.10/dist-packages (from matplotlib>=3.9.2->cartes>=0.8.2->traffic) (1.4.7)\n",
            "Requirement already satisfied: pillow>=8 in /usr/local/lib/python3.10/dist-packages (from matplotlib>=3.9.2->cartes>=0.8.2->traffic) (11.0.0)\n",
            "Requirement already satisfied: pyparsing>=2.3.1 in /usr/local/lib/python3.10/dist-packages (from matplotlib>=3.9.2->cartes>=0.8.2->traffic) (3.2.0)\n",
            "Requirement already satisfied: python-dateutil>=2.7 in /usr/local/lib/python3.10/dist-packages (from matplotlib>=3.9.2->cartes>=0.8.2->traffic) (2.8.2)\n",
            "Requirement already satisfied: urllib3 in /usr/local/lib/python3.10/dist-packages (from minio>=7.2.8->pyopensky>=2.11->traffic) (2.2.3)\n",
            "Requirement already satisfied: argon2-cffi in /usr/local/lib/python3.10/dist-packages (from minio>=7.2.8->pyopensky>=2.11->traffic) (23.1.0)\n",
            "Requirement already satisfied: pycryptodome in /usr/local/lib/python3.10/dist-packages (from minio>=7.2.8->pyopensky>=2.11->traffic) (3.21.0)\n",
            "Requirement already satisfied: pytz>=2020.1 in /usr/local/lib/python3.10/dist-packages (from pandas>=2.2.3->cartes>=0.8.2->traffic) (2024.2)\n",
            "Requirement already satisfied: platformdirs>=2.1.0 in /usr/local/lib/python3.10/dist-packages (from pint>=0.24.4->impunity>=1.0.4->traffic) (4.3.6)\n",
            "Requirement already satisfied: flexcache>=0.3 in /usr/local/lib/python3.10/dist-packages (from pint>=0.24.4->impunity>=1.0.4->traffic) (0.3)\n",
            "Requirement already satisfied: flexparser>=0.4 in /usr/local/lib/python3.10/dist-packages (from pint>=0.24.4->impunity>=1.0.4->traffic) (0.4)\n",
            "Requirement already satisfied: requests>=2.31.0 in /usr/local/lib/python3.10/dist-packages (from trino>=0.329.0->trino[sqlalchemy]>=0.329.0->pyopensky>=2.11->traffic) (2.32.3)\n",
            "Requirement already satisfied: tzlocal in /usr/local/lib/python3.10/dist-packages (from trino>=0.329.0->trino[sqlalchemy]>=0.329.0->pyopensky>=2.11->traffic) (5.2)\n",
            "Requirement already satisfied: sqlalchemy>=1.3 in /usr/local/lib/python3.10/dist-packages (from trino[sqlalchemy]>=0.329.0->pyopensky>=2.11->traffic) (2.0.36)\n",
            "Requirement already satisfied: click>=7.0 in /usr/local/lib/python3.10/dist-packages (from uvicorn>=0.31.0->cartes>=0.8.2->traffic) (8.1.7)\n",
            "Requirement already satisfied: exceptiongroup in /usr/local/lib/python3.10/dist-packages (from anyio->httpx>=0.27.2->traffic) (1.2.2)\n",
            "Requirement already satisfied: humanfriendly>=9.1 in /usr/local/lib/python3.10/dist-packages (from coloredlogs->onnxruntime>=1.20.0->traffic) (10.0)\n",
            "Requirement already satisfied: mpmath<1.4,>=1.1.0 in /usr/local/lib/python3.10/dist-packages (from sympy->onnxruntime>=1.20.0->traffic) (1.3.0)\n",
            "Requirement already satisfied: hyperframe<7,>=6.0 in /usr/local/lib/python3.10/dist-packages (from h2<5,>=3->httpx[http2]>=0.27.2->cartes>=0.8.2->traffic) (6.0.1)\n",
            "Requirement already satisfied: hpack<5,>=4.0 in /usr/local/lib/python3.10/dist-packages (from h2<5,>=3->httpx[http2]>=0.27.2->cartes>=0.8.2->traffic) (4.0.0)\n",
            "Requirement already satisfied: annotated-types>=0.6.0 in /usr/local/lib/python3.10/dist-packages (from pydantic!=1.8,!=1.8.1,!=2.0.0,!=2.0.1,!=2.1.0,<3.0.0,>=1.7.4->fastapi>=0.115.0->cartes>=0.8.2->traffic) (0.7.0)\n",
            "Requirement already satisfied: pydantic-core==2.23.4 in /usr/local/lib/python3.10/dist-packages (from pydantic!=1.8,!=1.8.1,!=2.0.0,!=2.0.1,!=2.1.0,<3.0.0,>=1.7.4->fastapi>=0.115.0->cartes>=0.8.2->traffic) (2.23.4)\n",
            "Requirement already satisfied: six>=1.5 in /usr/local/lib/python3.10/dist-packages (from python-dateutil>=2.7->matplotlib>=3.9.2->cartes>=0.8.2->traffic) (1.16.0)\n",
            "Requirement already satisfied: charset-normalizer<4,>=2 in /usr/local/lib/python3.10/dist-packages (from requests>=2.31.0->trino>=0.329.0->trino[sqlalchemy]>=0.329.0->pyopensky>=2.11->traffic) (3.4.0)\n",
            "Requirement already satisfied: greenlet!=0.4.17 in /usr/local/lib/python3.10/dist-packages (from sqlalchemy>=1.3->trino[sqlalchemy]>=0.329.0->pyopensky>=2.11->traffic) (3.1.1)\n",
            "Requirement already satisfied: argon2-cffi-bindings in /usr/local/lib/python3.10/dist-packages (from argon2-cffi->minio>=7.2.8->pyopensky>=2.11->traffic) (21.2.0)\n",
            "Requirement already satisfied: MarkupSafe>=2.0 in /usr/local/lib/python3.10/dist-packages (from jinja2->altair>=5.4.1->cartes>=0.8.2->traffic) (3.0.2)\n",
            "Requirement already satisfied: cffi>=1.0.1 in /usr/local/lib/python3.10/dist-packages (from argon2-cffi-bindings->argon2-cffi->minio>=7.2.8->pyopensky>=2.11->traffic) (1.17.1)\n",
            "Requirement already satisfied: pycparser in /usr/local/lib/python3.10/dist-packages (from cffi>=1.0.1->argon2-cffi-bindings->argon2-cffi->minio>=7.2.8->pyopensky>=2.11->traffic) (2.22)\n"
          ]
        }
      ]
    },
    {
      "cell_type": "markdown",
      "source": [
        "Include libraries"
      ],
      "metadata": {
        "id": "JiGW3nhdOE34"
      }
    },
    {
      "cell_type": "code",
      "source": [
        "from datetime import datetime, timedelta\n",
        "import pandas as pd\n",
        "#from cartes.crs import Lambert93  # type: ignore"
      ],
      "metadata": {
        "id": "wDHpwv0LN-IL"
      },
      "execution_count": 67,
      "outputs": []
    },
    {
      "cell_type": "markdown",
      "source": [
        "Always use python engine for dataframe queries, see\n",
        "https://stackoverflow.com/questions/67063643/is-there-a-way-to-force-pandas-dataframe-query-to-use-python-as-default-engine"
      ],
      "metadata": {
        "id": "3SCVKlupW8mh"
      }
    },
    {
      "cell_type": "code",
      "source": [
        "from functools import partialmethod\n",
        "\n",
        "pd.DataFrame.query = partialmethod(pd.DataFrame.query, engine=\"python\")\n",
        "\n"
      ],
      "metadata": {
        "id": "jwR4zG9eW7gh"
      },
      "execution_count": 68,
      "outputs": []
    },
    {
      "cell_type": "markdown",
      "source": [
        "... and the traffic library used to hadle the opensky queries"
      ],
      "metadata": {
        "id": "v54hxK6sXgS6"
      }
    },
    {
      "cell_type": "code",
      "source": [
        "import traffic\n",
        "traffic.config_file"
      ],
      "metadata": {
        "id": "5VJQ_ts1ONA5",
        "colab": {
          "base_uri": "https://localhost:8080/"
        },
        "outputId": "21f7aa03-c4eb-46f1-a819-66eb104b4df6"
      },
      "execution_count": 69,
      "outputs": [
        {
          "output_type": "execute_result",
          "data": {
            "text/plain": [
              "PosixPath('/root/.config/traffic/traffic.conf')"
            ]
          },
          "metadata": {},
          "execution_count": 69
        }
      ]
    },
    {
      "cell_type": "code",
      "source": [
        "from traffic.data import opensky\n",
        "#from traffic.core import Flight\n",
        "#from traffic.data import eurofirs\n"
      ],
      "metadata": {
        "id": "zfbTzyiyR1-Y"
      },
      "execution_count": 70,
      "outputs": []
    },
    {
      "cell_type": "markdown",
      "source": [
        "Define list of airports we are interested in: based on https://de.wikipedia.org/wiki/Liste_der_Verkehrsflugh%C3%A4fen_in_Deutschland"
      ],
      "metadata": {
        "id": "B8RkI_SjYdke"
      }
    },
    {
      "cell_type": "code",
      "source": [
        "icaolist=[\"EDBH\", \"EDDB\", \"EDVE\", \"EDDW\", \"ETMN\", \"EDLW\", \"EDDC\", \"EDDL\", \"EDDE\", \"EDDF\", \"EDFH\", \"EDNY\", \"EDDH\", \"EDDV\", \"EDAH\", \"ETSI\", \"EDSB\", \"EDVK\",\n",
        "           \"EDDK\", \"EDTL\", \"EDDP\", \"EDHL\", \"EDBC\", \"EDJA\", \"EDDM\", \"EDDG\", \"EDBN\", \"EDLV\", \"EDDN\", \"EDMO\", \"EDLP\", \"ETNL\", \"EDDR\", \"EDGS\", \"EDDS\", \"EDXW\"]\n",
        "# note: it was necessary to split the list in two parts, having one giant list was not supported by the database query\n",
        "print(icaolist)"
      ],
      "metadata": {
        "id": "BjyJBIMtR97R",
        "colab": {
          "base_uri": "https://localhost:8080/"
        },
        "outputId": "5a192c85-a458-4006-f689-12975a6ebf5a"
      },
      "execution_count": 78,
      "outputs": [
        {
          "output_type": "stream",
          "name": "stdout",
          "text": [
            "['EDBH', 'EDDB', 'EDVE', 'EDDW', 'ETMN', 'EDLW', 'EDDC', 'EDDL', 'EDDE', 'EDDF', 'EDFH', 'EDNY', 'EDDH', 'EDDV', 'EDAH', 'ETSI', 'EDSB', 'EDVK', 'EDDK', 'EDTL', 'EDDP', 'EDHL', 'EDBC', 'EDJA', 'EDDM', 'EDDG', 'EDBN', 'EDLV', 'EDDN', 'EDMO', 'EDLP', 'ETNL', 'EDDR', 'EDGS', 'EDDS', 'EDXW']\n"
          ]
        }
      ]
    },
    {
      "cell_type": "markdown",
      "source": [
        "First test: let's get the flightlist of all flights starting at any airport from the list"
      ],
      "metadata": {
        "id": "d7P9_mL_dVK6"
      }
    },
    {
      "cell_type": "markdown",
      "source": [
        " The syntax is:\n",
        " OpenSky.flightlist(start, stop=None, *args, departure_airport=None, arrival_airport=None, airport=None, callsign=None, icao24=None, cached=True, compress=False, limit=None, **kwargs)"
      ],
      "metadata": {
        "id": "egEJ7zLEeOqv"
      }
    },
    {
      "cell_type": "code",
      "source": [
        "# time range to retrieve\n",
        "startdate=\"2019-12-01\"\n",
        "stopdate=\"2019-12-31\""
      ],
      "metadata": {
        "id": "SgERDM7YcovZ"
      },
      "execution_count": 72,
      "outputs": []
    },
    {
      "cell_type": "code",
      "source": [
        "pdDeparture = opensky.flightlist(\n",
        "    startdate,\n",
        "    stopdate,\n",
        "    departure_airport=icaolist,\n",
        ")\n"
      ],
      "metadata": {
        "id": "81K8RL5rcfpX"
      },
      "execution_count": 81,
      "outputs": []
    },
    {
      "cell_type": "code",
      "source": [
        "print(f'retrieved {len(pdDeparture)} flights departing at any of the selected airports')\n"
      ],
      "metadata": {
        "colab": {
          "base_uri": "https://localhost:8080/"
        },
        "id": "FcB1ziyRioKT",
        "outputId": "8917326f-7e0b-4506-9641-54baa051a888"
      },
      "execution_count": 82,
      "outputs": [
        {
          "output_type": "stream",
          "name": "stdout",
          "text": [
            "retrieved 4189 flights departing at any of the selected airports\n"
          ]
        }
      ]
    },
    {
      "cell_type": "code",
      "source": [
        "pdArrival = opensky.flightlist(\n",
        "    startdate,\n",
        "    stopdate,\n",
        "    arrival_airport=icaolist,\n",
        ")\n"
      ],
      "metadata": {
        "id": "ikOig5asdVYm"
      },
      "execution_count": 85,
      "outputs": []
    },
    {
      "cell_type": "code",
      "source": [
        "print(f'retrieved {len(pdArrival)} flights arriving at any of the selected airports')"
      ],
      "metadata": {
        "colab": {
          "base_uri": "https://localhost:8080/"
        },
        "id": "G9rwQJwXjEnR",
        "outputId": "89b20e40-67fe-414c-a180-a5871a72c592"
      },
      "execution_count": 86,
      "outputs": [
        {
          "output_type": "stream",
          "name": "stdout",
          "text": [
            "retrieved 4506 flights arriving at any of the selected airports\n"
          ]
        }
      ]
    },
    {
      "cell_type": "markdown",
      "source": [
        "Now combine the two, while dropping duplicate rows (i.e. flights start went from one airport to another on the list should only be listed once)."
      ],
      "metadata": {
        "id": "4wg5y1jvjUTb"
      }
    },
    {
      "cell_type": "markdown",
      "source": [
        "Output the (beginning and the )end of the retrieved dataframe"
      ],
      "metadata": {
        "id": "JJP9-YpFe4kq"
      }
    },
    {
      "cell_type": "code",
      "source": [
        "pdAll = pd.concat([pdDeparture, pdArrival]).drop_duplicates().reset_index(drop=True)"
      ],
      "metadata": {
        "id": "LCz4eQMJjduI"
      },
      "execution_count": 87,
      "outputs": []
    },
    {
      "cell_type": "code",
      "source": [
        "print(f'retrieved {len(pdAll)} flights departing or arriving at any of the selected airports')"
      ],
      "metadata": {
        "colab": {
          "base_uri": "https://localhost:8080/"
        },
        "id": "GA4pL5-3jssi",
        "outputId": "fdc335c7-e7db-429d-a782-046c15b02c80"
      },
      "execution_count": 88,
      "outputs": [
        {
          "output_type": "stream",
          "name": "stdout",
          "text": [
            "retrieved 7760 flights departing or arriving at any of the selected airports\n"
          ]
        }
      ]
    },
    {
      "cell_type": "markdown",
      "source": [
        "Just a quick look how the information inside the data frame looks like"
      ],
      "metadata": {
        "id": "_9vNyeSajzIu"
      }
    },
    {
      "cell_type": "code",
      "source": [
        "#print(t.head())\n",
        "\n",
        "pdAll.tail()"
      ],
      "metadata": {
        "colab": {
          "base_uri": "https://localhost:8080/",
          "height": 206
        },
        "id": "PpU3DnTAfJfC",
        "outputId": "cb390504-34ce-454c-cb89-322ec40724e6"
      },
      "execution_count": 89,
      "outputs": [
        {
          "output_type": "execute_result",
          "data": {
            "text/plain": [
              "      icao24                  firstseen departure                   lastseen  \\\n",
              "7755  3c48f0  2019-12-01 20:12:00+00:00      LFPG  2019-12-01 21:05:35+00:00   \n",
              "7756  3c48f0  2019-12-01 16:22:02+00:00      EDDT  2019-12-01 17:14:29+00:00   \n",
              "7757  3c4b33  2019-12-01 06:11:20+00:00      <NA>  2019-12-01 14:28:57+00:00   \n",
              "7758  3c4aab  2019-12-01 04:26:30+00:00      <NA>  2019-12-01 06:25:47+00:00   \n",
              "7759  4ba9a9  2019-12-01 06:35:34+00:00      <NA>  2019-12-01 09:19:29+00:00   \n",
              "\n",
              "     arrival callsign                        day  \n",
              "7755    EDDL   EWG7XK  2019-12-01 00:00:00+00:00  \n",
              "7756    EDDL   EWG4SF  2019-12-01 00:00:00+00:00  \n",
              "7757    EDDF   DLH499  2019-12-01 00:00:00+00:00  \n",
              "7758    EDDF   CFG103  2019-12-01 00:00:00+00:00  \n",
              "7759    EDDV   THY7ZS  2019-12-01 00:00:00+00:00  "
            ],
            "text/html": [
              "\n",
              "  <div id=\"df-e9cc2b69-3f96-4771-b0ac-c9775f72bbd9\" class=\"colab-df-container\">\n",
              "    <div>\n",
              "<style scoped>\n",
              "    .dataframe tbody tr th:only-of-type {\n",
              "        vertical-align: middle;\n",
              "    }\n",
              "\n",
              "    .dataframe tbody tr th {\n",
              "        vertical-align: top;\n",
              "    }\n",
              "\n",
              "    .dataframe thead th {\n",
              "        text-align: right;\n",
              "    }\n",
              "</style>\n",
              "<table border=\"1\" class=\"dataframe\">\n",
              "  <thead>\n",
              "    <tr style=\"text-align: right;\">\n",
              "      <th></th>\n",
              "      <th>icao24</th>\n",
              "      <th>firstseen</th>\n",
              "      <th>departure</th>\n",
              "      <th>lastseen</th>\n",
              "      <th>arrival</th>\n",
              "      <th>callsign</th>\n",
              "      <th>day</th>\n",
              "    </tr>\n",
              "  </thead>\n",
              "  <tbody>\n",
              "    <tr>\n",
              "      <th>7755</th>\n",
              "      <td>3c48f0</td>\n",
              "      <td>2019-12-01 20:12:00+00:00</td>\n",
              "      <td>LFPG</td>\n",
              "      <td>2019-12-01 21:05:35+00:00</td>\n",
              "      <td>EDDL</td>\n",
              "      <td>EWG7XK</td>\n",
              "      <td>2019-12-01 00:00:00+00:00</td>\n",
              "    </tr>\n",
              "    <tr>\n",
              "      <th>7756</th>\n",
              "      <td>3c48f0</td>\n",
              "      <td>2019-12-01 16:22:02+00:00</td>\n",
              "      <td>EDDT</td>\n",
              "      <td>2019-12-01 17:14:29+00:00</td>\n",
              "      <td>EDDL</td>\n",
              "      <td>EWG4SF</td>\n",
              "      <td>2019-12-01 00:00:00+00:00</td>\n",
              "    </tr>\n",
              "    <tr>\n",
              "      <th>7757</th>\n",
              "      <td>3c4b33</td>\n",
              "      <td>2019-12-01 06:11:20+00:00</td>\n",
              "      <td>&lt;NA&gt;</td>\n",
              "      <td>2019-12-01 14:28:57+00:00</td>\n",
              "      <td>EDDF</td>\n",
              "      <td>DLH499</td>\n",
              "      <td>2019-12-01 00:00:00+00:00</td>\n",
              "    </tr>\n",
              "    <tr>\n",
              "      <th>7758</th>\n",
              "      <td>3c4aab</td>\n",
              "      <td>2019-12-01 04:26:30+00:00</td>\n",
              "      <td>&lt;NA&gt;</td>\n",
              "      <td>2019-12-01 06:25:47+00:00</td>\n",
              "      <td>EDDF</td>\n",
              "      <td>CFG103</td>\n",
              "      <td>2019-12-01 00:00:00+00:00</td>\n",
              "    </tr>\n",
              "    <tr>\n",
              "      <th>7759</th>\n",
              "      <td>4ba9a9</td>\n",
              "      <td>2019-12-01 06:35:34+00:00</td>\n",
              "      <td>&lt;NA&gt;</td>\n",
              "      <td>2019-12-01 09:19:29+00:00</td>\n",
              "      <td>EDDV</td>\n",
              "      <td>THY7ZS</td>\n",
              "      <td>2019-12-01 00:00:00+00:00</td>\n",
              "    </tr>\n",
              "  </tbody>\n",
              "</table>\n",
              "</div>\n",
              "    <div class=\"colab-df-buttons\">\n",
              "\n",
              "  <div class=\"colab-df-container\">\n",
              "    <button class=\"colab-df-convert\" onclick=\"convertToInteractive('df-e9cc2b69-3f96-4771-b0ac-c9775f72bbd9')\"\n",
              "            title=\"Convert this dataframe to an interactive table.\"\n",
              "            style=\"display:none;\">\n",
              "\n",
              "  <svg xmlns=\"http://www.w3.org/2000/svg\" height=\"24px\" viewBox=\"0 -960 960 960\">\n",
              "    <path d=\"M120-120v-720h720v720H120Zm60-500h600v-160H180v160Zm220 220h160v-160H400v160Zm0 220h160v-160H400v160ZM180-400h160v-160H180v160Zm440 0h160v-160H620v160ZM180-180h160v-160H180v160Zm440 0h160v-160H620v160Z\"/>\n",
              "  </svg>\n",
              "    </button>\n",
              "\n",
              "  <style>\n",
              "    .colab-df-container {\n",
              "      display:flex;\n",
              "      gap: 12px;\n",
              "    }\n",
              "\n",
              "    .colab-df-convert {\n",
              "      background-color: #E8F0FE;\n",
              "      border: none;\n",
              "      border-radius: 50%;\n",
              "      cursor: pointer;\n",
              "      display: none;\n",
              "      fill: #1967D2;\n",
              "      height: 32px;\n",
              "      padding: 0 0 0 0;\n",
              "      width: 32px;\n",
              "    }\n",
              "\n",
              "    .colab-df-convert:hover {\n",
              "      background-color: #E2EBFA;\n",
              "      box-shadow: 0px 1px 2px rgba(60, 64, 67, 0.3), 0px 1px 3px 1px rgba(60, 64, 67, 0.15);\n",
              "      fill: #174EA6;\n",
              "    }\n",
              "\n",
              "    .colab-df-buttons div {\n",
              "      margin-bottom: 4px;\n",
              "    }\n",
              "\n",
              "    [theme=dark] .colab-df-convert {\n",
              "      background-color: #3B4455;\n",
              "      fill: #D2E3FC;\n",
              "    }\n",
              "\n",
              "    [theme=dark] .colab-df-convert:hover {\n",
              "      background-color: #434B5C;\n",
              "      box-shadow: 0px 1px 3px 1px rgba(0, 0, 0, 0.15);\n",
              "      filter: drop-shadow(0px 1px 2px rgba(0, 0, 0, 0.3));\n",
              "      fill: #FFFFFF;\n",
              "    }\n",
              "  </style>\n",
              "\n",
              "    <script>\n",
              "      const buttonEl =\n",
              "        document.querySelector('#df-e9cc2b69-3f96-4771-b0ac-c9775f72bbd9 button.colab-df-convert');\n",
              "      buttonEl.style.display =\n",
              "        google.colab.kernel.accessAllowed ? 'block' : 'none';\n",
              "\n",
              "      async function convertToInteractive(key) {\n",
              "        const element = document.querySelector('#df-e9cc2b69-3f96-4771-b0ac-c9775f72bbd9');\n",
              "        const dataTable =\n",
              "          await google.colab.kernel.invokeFunction('convertToInteractive',\n",
              "                                                    [key], {});\n",
              "        if (!dataTable) return;\n",
              "\n",
              "        const docLinkHtml = 'Like what you see? Visit the ' +\n",
              "          '<a target=\"_blank\" href=https://colab.research.google.com/notebooks/data_table.ipynb>data table notebook</a>'\n",
              "          + ' to learn more about interactive tables.';\n",
              "        element.innerHTML = '';\n",
              "        dataTable['output_type'] = 'display_data';\n",
              "        await google.colab.output.renderOutput(dataTable, element);\n",
              "        const docLink = document.createElement('div');\n",
              "        docLink.innerHTML = docLinkHtml;\n",
              "        element.appendChild(docLink);\n",
              "      }\n",
              "    </script>\n",
              "  </div>\n",
              "\n",
              "\n",
              "<div id=\"df-f4b937fd-5bba-4f52-bf33-04a692f103f1\">\n",
              "  <button class=\"colab-df-quickchart\" onclick=\"quickchart('df-f4b937fd-5bba-4f52-bf33-04a692f103f1')\"\n",
              "            title=\"Suggest charts\"\n",
              "            style=\"display:none;\">\n",
              "\n",
              "<svg xmlns=\"http://www.w3.org/2000/svg\" height=\"24px\"viewBox=\"0 0 24 24\"\n",
              "     width=\"24px\">\n",
              "    <g>\n",
              "        <path d=\"M19 3H5c-1.1 0-2 .9-2 2v14c0 1.1.9 2 2 2h14c1.1 0 2-.9 2-2V5c0-1.1-.9-2-2-2zM9 17H7v-7h2v7zm4 0h-2V7h2v10zm4 0h-2v-4h2v4z\"/>\n",
              "    </g>\n",
              "</svg>\n",
              "  </button>\n",
              "\n",
              "<style>\n",
              "  .colab-df-quickchart {\n",
              "      --bg-color: #E8F0FE;\n",
              "      --fill-color: #1967D2;\n",
              "      --hover-bg-color: #E2EBFA;\n",
              "      --hover-fill-color: #174EA6;\n",
              "      --disabled-fill-color: #AAA;\n",
              "      --disabled-bg-color: #DDD;\n",
              "  }\n",
              "\n",
              "  [theme=dark] .colab-df-quickchart {\n",
              "      --bg-color: #3B4455;\n",
              "      --fill-color: #D2E3FC;\n",
              "      --hover-bg-color: #434B5C;\n",
              "      --hover-fill-color: #FFFFFF;\n",
              "      --disabled-bg-color: #3B4455;\n",
              "      --disabled-fill-color: #666;\n",
              "  }\n",
              "\n",
              "  .colab-df-quickchart {\n",
              "    background-color: var(--bg-color);\n",
              "    border: none;\n",
              "    border-radius: 50%;\n",
              "    cursor: pointer;\n",
              "    display: none;\n",
              "    fill: var(--fill-color);\n",
              "    height: 32px;\n",
              "    padding: 0;\n",
              "    width: 32px;\n",
              "  }\n",
              "\n",
              "  .colab-df-quickchart:hover {\n",
              "    background-color: var(--hover-bg-color);\n",
              "    box-shadow: 0 1px 2px rgba(60, 64, 67, 0.3), 0 1px 3px 1px rgba(60, 64, 67, 0.15);\n",
              "    fill: var(--button-hover-fill-color);\n",
              "  }\n",
              "\n",
              "  .colab-df-quickchart-complete:disabled,\n",
              "  .colab-df-quickchart-complete:disabled:hover {\n",
              "    background-color: var(--disabled-bg-color);\n",
              "    fill: var(--disabled-fill-color);\n",
              "    box-shadow: none;\n",
              "  }\n",
              "\n",
              "  .colab-df-spinner {\n",
              "    border: 2px solid var(--fill-color);\n",
              "    border-color: transparent;\n",
              "    border-bottom-color: var(--fill-color);\n",
              "    animation:\n",
              "      spin 1s steps(1) infinite;\n",
              "  }\n",
              "\n",
              "  @keyframes spin {\n",
              "    0% {\n",
              "      border-color: transparent;\n",
              "      border-bottom-color: var(--fill-color);\n",
              "      border-left-color: var(--fill-color);\n",
              "    }\n",
              "    20% {\n",
              "      border-color: transparent;\n",
              "      border-left-color: var(--fill-color);\n",
              "      border-top-color: var(--fill-color);\n",
              "    }\n",
              "    30% {\n",
              "      border-color: transparent;\n",
              "      border-left-color: var(--fill-color);\n",
              "      border-top-color: var(--fill-color);\n",
              "      border-right-color: var(--fill-color);\n",
              "    }\n",
              "    40% {\n",
              "      border-color: transparent;\n",
              "      border-right-color: var(--fill-color);\n",
              "      border-top-color: var(--fill-color);\n",
              "    }\n",
              "    60% {\n",
              "      border-color: transparent;\n",
              "      border-right-color: var(--fill-color);\n",
              "    }\n",
              "    80% {\n",
              "      border-color: transparent;\n",
              "      border-right-color: var(--fill-color);\n",
              "      border-bottom-color: var(--fill-color);\n",
              "    }\n",
              "    90% {\n",
              "      border-color: transparent;\n",
              "      border-bottom-color: var(--fill-color);\n",
              "    }\n",
              "  }\n",
              "</style>\n",
              "\n",
              "  <script>\n",
              "    async function quickchart(key) {\n",
              "      const quickchartButtonEl =\n",
              "        document.querySelector('#' + key + ' button');\n",
              "      quickchartButtonEl.disabled = true;  // To prevent multiple clicks.\n",
              "      quickchartButtonEl.classList.add('colab-df-spinner');\n",
              "      try {\n",
              "        const charts = await google.colab.kernel.invokeFunction(\n",
              "            'suggestCharts', [key], {});\n",
              "      } catch (error) {\n",
              "        console.error('Error during call to suggestCharts:', error);\n",
              "      }\n",
              "      quickchartButtonEl.classList.remove('colab-df-spinner');\n",
              "      quickchartButtonEl.classList.add('colab-df-quickchart-complete');\n",
              "    }\n",
              "    (() => {\n",
              "      let quickchartButtonEl =\n",
              "        document.querySelector('#df-f4b937fd-5bba-4f52-bf33-04a692f103f1 button');\n",
              "      quickchartButtonEl.style.display =\n",
              "        google.colab.kernel.accessAllowed ? 'block' : 'none';\n",
              "    })();\n",
              "  </script>\n",
              "</div>\n",
              "\n",
              "    </div>\n",
              "  </div>\n"
            ],
            "application/vnd.google.colaboratory.intrinsic+json": {
              "type": "dataframe",
              "summary": "{\n  \"name\": \"pdAll\",\n  \"rows\": 5,\n  \"fields\": [\n    {\n      \"column\": \"icao24\",\n      \"properties\": {\n        \"dtype\": \"string[pyarrow]\",\n        \"num_unique_values\": 4,\n        \"samples\": [\n          \"3c4b33\",\n          \"4ba9a9\",\n          \"3c48f0\"\n        ],\n        \"semantic_type\": \"\",\n        \"description\": \"\"\n      }\n    },\n    {\n      \"column\": \"firstseen\",\n      \"properties\": {\n        \"dtype\": \"timestamp[ns, tz=UTC][pyarrow]\",\n        \"num_unique_values\": 5,\n        \"samples\": [\n          \"2019-12-01 16:22:02+00:00\",\n          \"2019-12-01 06:35:34+00:00\",\n          \"2019-12-01 06:11:20+00:00\"\n        ],\n        \"semantic_type\": \"\",\n        \"description\": \"\"\n      }\n    },\n    {\n      \"column\": \"departure\",\n      \"properties\": {\n        \"dtype\": \"string[pyarrow]\",\n        \"num_unique_values\": 2,\n        \"samples\": [\n          \"EDDT\",\n          \"LFPG\"\n        ],\n        \"semantic_type\": \"\",\n        \"description\": \"\"\n      }\n    },\n    {\n      \"column\": \"lastseen\",\n      \"properties\": {\n        \"dtype\": \"timestamp[ns, tz=UTC][pyarrow]\",\n        \"num_unique_values\": 5,\n        \"samples\": [\n          \"2019-12-01 17:14:29+00:00\",\n          \"2019-12-01 09:19:29+00:00\"\n        ],\n        \"semantic_type\": \"\",\n        \"description\": \"\"\n      }\n    },\n    {\n      \"column\": \"arrival\",\n      \"properties\": {\n        \"dtype\": \"string[pyarrow]\",\n        \"num_unique_values\": 3,\n        \"samples\": [\n          \"EDDL\",\n          \"EDDF\"\n        ],\n        \"semantic_type\": \"\",\n        \"description\": \"\"\n      }\n    },\n    {\n      \"column\": \"callsign\",\n      \"properties\": {\n        \"dtype\": \"string[pyarrow]\",\n        \"num_unique_values\": 5,\n        \"samples\": [\n          \"EWG4SF\",\n          \"THY7ZS\"\n        ],\n        \"semantic_type\": \"\",\n        \"description\": \"\"\n      }\n    },\n    {\n      \"column\": \"day\",\n      \"properties\": {\n        \"dtype\": \"timestamp[ns, tz=UTC][pyarrow]\",\n        \"num_unique_values\": 1,\n        \"samples\": [\n          \"2019-12-01 00:00:00+00:00\"\n        ],\n        \"semantic_type\": \"\",\n        \"description\": \"\"\n      }\n    }\n  ]\n}"
            }
          },
          "metadata": {},
          "execution_count": 89
        }
      ]
    },
    {
      "cell_type": "markdown",
      "source": [
        "Mount google drive to save the resulting csv file"
      ],
      "metadata": {
        "id": "AI6lPwIXkA5n"
      }
    },
    {
      "cell_type": "code",
      "source": [
        "from google.colab import drive\n",
        "drive.mount('/content/drive')\n",
        "\n",
        "import os\n",
        "\n",
        "# where to save the data (and making shure that the directory exist)\n",
        "folder_path = \"/content/drive/My Drive/2024KomplexeNetze/Daten\"\n",
        "if not os.path.exists(folder_path):\n",
        "    os.makedirs(folder_path)\n"
      ],
      "metadata": {
        "colab": {
          "base_uri": "https://localhost:8080/"
        },
        "id": "MWg_iOJHbLON",
        "outputId": "febff9cf-fc9b-4a73-b38f-1e18e027f012"
      },
      "execution_count": 91,
      "outputs": [
        {
          "output_type": "stream",
          "name": "stdout",
          "text": [
            "Drive already mounted at /content/drive; to attempt to forcibly remount, call drive.mount(\"/content/drive\", force_remount=True).\n"
          ]
        }
      ]
    },
    {
      "cell_type": "markdown",
      "source": [
        "Last step: save the retrieved data into csv, with a name defined by start and stop date."
      ],
      "metadata": {
        "id": "PKlJ-Q_TkJmC"
      }
    },
    {
      "cell_type": "code",
      "source": [
        "outputfile=startdate+\"_\"+stopdate+\".csv\"\n",
        "file_path = os.path.join(folder_path, outputfile)\n",
        "pdAll.to_csv(file_path, index=False)  # ((saving without the DataFrame index))"
      ],
      "metadata": {
        "id": "t6igyAHBkTka"
      },
      "execution_count": 93,
      "outputs": []
    },
    {
      "cell_type": "code",
      "source": [
        "print(f'Output file has been generated in {file_path}')"
      ],
      "metadata": {
        "colab": {
          "base_uri": "https://localhost:8080/"
        },
        "id": "Wdh60-gvkkte",
        "outputId": "0c6730d1-7593-490e-c155-93051a94b9d4"
      },
      "execution_count": 94,
      "outputs": [
        {
          "output_type": "stream",
          "name": "stdout",
          "text": [
            "Output file has been generated in /content/drive/My Drive/2024KomplexeNetze/Daten/2019-12-01_2019-12-03.csv\n"
          ]
        }
      ]
    },
    {
      "cell_type": "markdown",
      "source": [
        "--------------------------------------\n",
        "Note: if we want, we could also get some airport info from provided by traffic, like geo coordinates, city, name."
      ],
      "metadata": {
        "id": "rbhBe2ALpGab"
      }
    },
    {
      "cell_type": "code",
      "source": [
        "from traffic.data import airports\n",
        "# the command below is also getting Hamburg, USA, and hospital helipads in HH, ...\n",
        "#airports.search(\"Hamburg\")\n"
      ],
      "metadata": {
        "id": "bzwxG0Xrpbyb"
      },
      "execution_count": 95,
      "outputs": []
    },
    {
      "cell_type": "code",
      "source": [
        "airports.query('icao==\"EDDB\" and country==\"Germany\"')"
      ],
      "metadata": {
        "id": "gkeKI_b_paML",
        "colab": {
          "base_uri": "https://localhost:8080/",
          "height": 81
        },
        "outputId": "93cf3137-e485-4202-83aa-759086e73d73"
      },
      "execution_count": 96,
      "outputs": [
        {
          "output_type": "execute_result",
          "data": {
            "text/plain": [
              "<traffic.data.basic.airports.Airports at 0x7dd99d25bfa0>"
            ],
            "text/html": [
              "<div>\n",
              "<style scoped>\n",
              "    .dataframe tbody tr th:only-of-type {\n",
              "        vertical-align: middle;\n",
              "    }\n",
              "\n",
              "    .dataframe tbody tr th {\n",
              "        vertical-align: top;\n",
              "    }\n",
              "\n",
              "    .dataframe thead th {\n",
              "        text-align: right;\n",
              "    }\n",
              "</style>\n",
              "<table border=\"1\" class=\"dataframe\">\n",
              "  <thead>\n",
              "    <tr style=\"text-align: right;\">\n",
              "      <th></th>\n",
              "      <th>name</th>\n",
              "      <th>iata</th>\n",
              "      <th>icao</th>\n",
              "      <th>latitude</th>\n",
              "      <th>longitude</th>\n",
              "      <th>country</th>\n",
              "      <th>altitude</th>\n",
              "      <th>type</th>\n",
              "      <th>municipality</th>\n",
              "    </tr>\n",
              "  </thead>\n",
              "  <tbody>\n",
              "    <tr>\n",
              "      <th>22735</th>\n",
              "      <td>Berlin Brandenburg Airport</td>\n",
              "      <td>BER</td>\n",
              "      <td>EDDB</td>\n",
              "      <td>52.362247</td>\n",
              "      <td>13.500672</td>\n",
              "      <td>Germany</td>\n",
              "      <td>157.0</td>\n",
              "      <td>large_airport</td>\n",
              "      <td>Berlin</td>\n",
              "    </tr>\n",
              "  </tbody>\n",
              "</table>\n",
              "</div>"
            ]
          },
          "metadata": {},
          "execution_count": 96
        }
      ]
    },
    {
      "cell_type": "markdown",
      "source": [
        "I thought about adding this information to the output file - but that would just increase the file size a lot, we can just add that info at the end of the analysis for making nice plots, and work with icao until then."
      ],
      "metadata": {
        "id": "3QyLKl0KlLFk"
      }
    },
    {
      "cell_type": "markdown",
      "source": [
        "iata==iata seems to be the best way to filter on all airports that don't have None in that column."
      ],
      "metadata": {
        "id": "S0R3ArDTvJJy"
      }
    },
    {
      "cell_type": "code",
      "source": [
        "airports.query('country==\"Germany\" and iata==iata')"
      ],
      "metadata": {
        "colab": {
          "base_uri": "https://localhost:8080/",
          "height": 424
        },
        "id": "3TW7pu1LrI00",
        "outputId": "7ede6660-6dad-4df0-eb3f-1116cd65eef2"
      },
      "execution_count": null,
      "outputs": [
        {
          "output_type": "execute_result",
          "data": {
            "text/plain": [
              "<traffic.data.basic.airports.Airports at 0x7f1acc29c340>"
            ],
            "text/html": [
              "<div>\n",
              "<style scoped>\n",
              "    .dataframe tbody tr th:only-of-type {\n",
              "        vertical-align: middle;\n",
              "    }\n",
              "\n",
              "    .dataframe tbody tr th {\n",
              "        vertical-align: top;\n",
              "    }\n",
              "\n",
              "    .dataframe thead th {\n",
              "        text-align: right;\n",
              "    }\n",
              "</style>\n",
              "<table border=\"1\" class=\"dataframe\">\n",
              "  <thead>\n",
              "    <tr style=\"text-align: right;\">\n",
              "      <th></th>\n",
              "      <th>name</th>\n",
              "      <th>iata</th>\n",
              "      <th>icao</th>\n",
              "      <th>latitude</th>\n",
              "      <th>longitude</th>\n",
              "      <th>country</th>\n",
              "      <th>altitude</th>\n",
              "      <th>type</th>\n",
              "      <th>municipality</th>\n",
              "    </tr>\n",
              "  </thead>\n",
              "  <tbody>\n",
              "    <tr>\n",
              "      <th>22659</th>\n",
              "      <td>Leipzig–Altenburg Airport</td>\n",
              "      <td>AOC</td>\n",
              "      <td>EDAC</td>\n",
              "      <td>50.981945</td>\n",
              "      <td>12.506389</td>\n",
              "      <td>Germany</td>\n",
              "      <td>640.0</td>\n",
              "      <td>medium_airport</td>\n",
              "      <td>Nobitz</td>\n",
              "    </tr>\n",
              "    <tr>\n",
              "      <th>22663</th>\n",
              "      <td>Heringsdorf Airport</td>\n",
              "      <td>HDF</td>\n",
              "      <td>EDAH</td>\n",
              "      <td>53.878700</td>\n",
              "      <td>14.152300</td>\n",
              "      <td>Germany</td>\n",
              "      <td>93.0</td>\n",
              "      <td>medium_airport</td>\n",
              "      <td>Zirchow</td>\n",
              "    </tr>\n",
              "    <tr>\n",
              "      <th>22676</th>\n",
              "      <td>Riesa-Göhlis Airport</td>\n",
              "      <td>IES</td>\n",
              "      <td>EDAU</td>\n",
              "      <td>51.293610</td>\n",
              "      <td>13.356111</td>\n",
              "      <td>Germany</td>\n",
              "      <td>322.0</td>\n",
              "      <td>small_airport</td>\n",
              "      <td>Riesa</td>\n",
              "    </tr>\n",
              "    <tr>\n",
              "      <th>22679</th>\n",
              "      <td>Rechlin-Lärz Airport</td>\n",
              "      <td>REB</td>\n",
              "      <td>EDAX</td>\n",
              "      <td>53.306389</td>\n",
              "      <td>12.752222</td>\n",
              "      <td>Germany</td>\n",
              "      <td>220.0</td>\n",
              "      <td>small_airport</td>\n",
              "      <td>Lärz</td>\n",
              "    </tr>\n",
              "    <tr>\n",
              "      <th>22683</th>\n",
              "      <td>Cochstedt Airport</td>\n",
              "      <td>CSO</td>\n",
              "      <td>EDBC</td>\n",
              "      <td>51.856400</td>\n",
              "      <td>11.420300</td>\n",
              "      <td>Germany</td>\n",
              "      <td>594.0</td>\n",
              "      <td>small_airport</td>\n",
              "      <td>Hecklingen</td>\n",
              "    </tr>\n",
              "    <tr>\n",
              "      <th>...</th>\n",
              "      <td>...</td>\n",
              "      <td>...</td>\n",
              "      <td>...</td>\n",
              "      <td>...</td>\n",
              "      <td>...</td>\n",
              "      <td>...</td>\n",
              "      <td>...</td>\n",
              "      <td>...</td>\n",
              "      <td>...</td>\n",
              "    </tr>\n",
              "    <tr>\n",
              "      <th>24853</th>\n",
              "      <td>Geilenkirchen Air Base</td>\n",
              "      <td>GKE</td>\n",
              "      <td>ETNG</td>\n",
              "      <td>50.960800</td>\n",
              "      <td>6.042420</td>\n",
              "      <td>Germany</td>\n",
              "      <td>296.0</td>\n",
              "      <td>medium_airport</td>\n",
              "      <td>Geilenkirchen</td>\n",
              "    </tr>\n",
              "    <tr>\n",
              "      <th>24856</th>\n",
              "      <td>Rostock-Laage Airport</td>\n",
              "      <td>RLG</td>\n",
              "      <td>ETNL</td>\n",
              "      <td>53.918201</td>\n",
              "      <td>12.278300</td>\n",
              "      <td>Germany</td>\n",
              "      <td>138.0</td>\n",
              "      <td>medium_airport</td>\n",
              "      <td>Laage</td>\n",
              "    </tr>\n",
              "    <tr>\n",
              "      <th>24859</th>\n",
              "      <td>Schleswig Air Base</td>\n",
              "      <td>WBG</td>\n",
              "      <td>ETNS</td>\n",
              "      <td>54.459301</td>\n",
              "      <td>9.516330</td>\n",
              "      <td>Germany</td>\n",
              "      <td>70.0</td>\n",
              "      <td>medium_airport</td>\n",
              "      <td>Jagel</td>\n",
              "    </tr>\n",
              "    <tr>\n",
              "      <th>24865</th>\n",
              "      <td>Wiesbaden Army Airfield</td>\n",
              "      <td>WIE</td>\n",
              "      <td>ETOU</td>\n",
              "      <td>50.049801</td>\n",
              "      <td>8.325400</td>\n",
              "      <td>Germany</td>\n",
              "      <td>461.0</td>\n",
              "      <td>medium_airport</td>\n",
              "      <td>Wiesbaden</td>\n",
              "    </tr>\n",
              "    <tr>\n",
              "      <th>24871</th>\n",
              "      <td>Ingolstadt Manching Airport</td>\n",
              "      <td>IGS</td>\n",
              "      <td>ETSI</td>\n",
              "      <td>48.715698</td>\n",
              "      <td>11.534000</td>\n",
              "      <td>Germany</td>\n",
              "      <td>1202.0</td>\n",
              "      <td>medium_airport</td>\n",
              "      <td>Manching</td>\n",
              "    </tr>\n",
              "  </tbody>\n",
              "</table>\n",
              "<p>85 rows × 9 columns</p>\n",
              "</div>"
            ]
          },
          "metadata": {},
          "execution_count": 30
        }
      ]
    },
    {
      "cell_type": "markdown",
      "source": [
        "Still not sure which of these gives me the best \"airport\" lists for commercial flights - maybe I'll have to plug in my own list / from another source.\n",
        "\n",
        "Any query that spits out Schleswig Jagel is not exclusive enough...\n",
        "\n",
        "\n",
        "Another idea: check the published Covid-19 dataset and see which G\n",
        "erman airports are in there?"
      ],
      "metadata": {
        "id": "kOe2SRwiqCE_"
      }
    },
    {
      "cell_type": "code",
      "source": [],
      "metadata": {
        "id": "gHrXjnIEpjZg"
      },
      "execution_count": null,
      "outputs": []
    },
    {
      "cell_type": "code",
      "source": [],
      "metadata": {
        "id": "dVQyFfGsVu0R"
      },
      "execution_count": null,
      "outputs": []
    }
  ]
}