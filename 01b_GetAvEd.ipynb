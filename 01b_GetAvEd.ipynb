{
  "nbformat": 4,
  "nbformat_minor": 0,
  "metadata": {
    "colab": {
      "provenance": [],
      "authorship_tag": "ABX9TyN+oV64ZUl8/Qv8EElsbfBC"
    },
    "kernelspec": {
      "name": "python3",
      "display_name": "Python 3"
    },
    "language_info": {
      "name": "python"
    }
  },
  "cells": [
    {
      "cell_type": "markdown",
      "source": [
        "Code to retrieve data via API\n"
      ],
      "metadata": {
        "id": "JlUjMrrLV74V"
      }
    },
    {
      "cell_type": "markdown",
      "source": [
        "Include libraries"
      ],
      "metadata": {
        "id": "JiGW3nhdOE34"
      }
    },
    {
      "cell_type": "code",
      "source": [
        "from datetime import datetime, timedelta\n",
        "import pandas as pd\n",
        "import requests\n",
        "from pandas import json_normalize"
      ],
      "metadata": {
        "id": "wDHpwv0LN-IL"
      },
      "execution_count": 37,
      "outputs": []
    },
    {
      "cell_type": "markdown",
      "source": [
        "Define list of airports we are interested in:\n",
        "\n",
        "based on https://de.wikipedia.org/wiki/Liste_der_Verkehrsflugh%C3%A4fen_in_Deutschland\n",
        "\n",
        "note: this one needs IATA codes, not icao!"
      ],
      "metadata": {
        "id": "B8RkI_SjYdke"
      }
    },
    {
      "cell_type": "code",
      "source": [
        "iatalistD=[\"FDH\", \"PAD\", \"FMO\", \"FKB\", \"DRS\", \"DTM\", \"LEJ\", \"NRN\", \"BRE\", \"HHN\", \"NUE\", \"HAJ\", \"SXF\", \"CGN\", \"STR\", \"HAM\", \"TXL\", \"DUS\", \"MUC\", \"FRA\"]\n",
        "print(iatalistD)"
      ],
      "metadata": {
        "id": "BjyJBIMtR97R",
        "colab": {
          "base_uri": "https://localhost:8080/"
        },
        "outputId": "2e9b86f0-8493-4b39-9e67-f31848e8fc26"
      },
      "execution_count": 38,
      "outputs": [
        {
          "output_type": "stream",
          "name": "stdout",
          "text": [
            "['FDH', 'PAD', 'FMO', 'FKB', 'DRS', 'DTM', 'LEJ', 'NRN', 'BRE', 'HHN', 'NUE', 'HAJ', 'SXF', 'CGN', 'STR', 'HAM', 'TXL', 'DUS', 'MUC', 'FRA']\n"
          ]
        }
      ]
    },
    {
      "cell_type": "markdown",
      "source": [
        "Start date : we can't get more than one year in the past :-("
      ],
      "metadata": {
        "id": "d7P9_mL_dVK6"
      }
    },
    {
      "cell_type": "code",
      "source": [
        "# time range to retrieve (note: not sure yet if here stopdate is exclusive or not)\n",
        "startdate=\"2023-12-19\"\n"
      ],
      "metadata": {
        "id": "SgERDM7YcovZ"
      },
      "execution_count": 39,
      "outputs": []
    },
    {
      "cell_type": "code",
      "source": [
        "# Convert the startdate string to a datetime object\n",
        "start_date_obj = datetime.strptime(startdate, \"%Y-%m-%d\")\n",
        "\n",
        "# Calculate the stopdate as one calendar month after the startdate\n",
        "stop_date_obj = start_date_obj + timedelta(days=2) # max query length in aviation-edge API is <31 days...\n",
        "\n",
        "# Convert the stopdate back to a string in the same format as startdate\n",
        "stopdate = stop_date_obj.strftime(\"%Y-%m-%d\")\n",
        "\n",
        "stopdate"
      ],
      "metadata": {
        "colab": {
          "base_uri": "https://localhost:8080/",
          "height": 35
        },
        "id": "aX2JEAMAJlVw",
        "outputId": "36f81929-228a-46ac-b031-da4b624e67ff"
      },
      "execution_count": 42,
      "outputs": [
        {
          "output_type": "execute_result",
          "data": {
            "text/plain": [
              "'2023-12-21'"
            ],
            "application/vnd.google.colaboratory.intrinsic+json": {
              "type": "string"
            }
          },
          "metadata": {},
          "execution_count": 42
        }
      ]
    },
    {
      "cell_type": "markdown",
      "source": [
        "Use API key for the request"
      ],
      "metadata": {
        "id": "0Z7gAk7L-Pwv"
      }
    },
    {
      "cell_type": "code",
      "source": [
        "from google.colab import userdata\n",
        "apikey=userdata.get('avedgekey')"
      ],
      "metadata": {
        "id": "mWixjUQ79kk7"
      },
      "execution_count": 41,
      "outputs": []
    },
    {
      "cell_type": "markdown",
      "source": [
        "Read URL, put the resulting json into a pandas data frame"
      ],
      "metadata": {
        "id": "IDde32rj-SDo"
      }
    },
    {
      "cell_type": "code",
      "source": [
        "url = f'https://aviation-edge.com/v2/public/flightsHistory?key={apikey}&code=HAM&type=departure&date_from={startdate}&date_to={stopdate}&limit=20'\n",
        "\n",
        "print(url)\n",
        "response = requests.get(url)\n",
        "dictr = response.json()\n"
      ],
      "metadata": {
        "colab": {
          "base_uri": "https://localhost:8080/"
        },
        "id": "0QG1ubBI-fF7",
        "outputId": "7e6f0142-e8d1-4668-bcd8-752c040a1bb3"
      },
      "execution_count": 49,
      "outputs": [
        {
          "output_type": "stream",
          "name": "stdout",
          "text": [
            "https://aviation-edge.com/v2/public/flightsHistory?key=ebff7f-543e40&code=HAM&type=departure&date_from=2023-12-19&date_to=2023-12-21&limit=20\n"
          ]
        }
      ]
    },
    {
      "cell_type": "code",
      "source": [
        "#print(dictr)"
      ],
      "metadata": {
        "id": "8Etkw7VkAmGS"
      },
      "execution_count": null,
      "outputs": []
    },
    {
      "cell_type": "code",
      "source": [
        "    if len(dictr) > 3:\n",
        "      # Initialize an empty list to store the extracted data\n",
        "      data = []\n",
        "\n",
        "      for entry in dictr:\n",
        "          departure = entry.get('departure', {}).get('icaoCode')\n",
        "          firstseen = entry.get('departure', {}).get('scheduledTime')\n",
        "          arrival = entry.get('arrival', {}).get('icaoCode')\n",
        "          lastseen = entry.get('arrival', {}).get('scheduledTime')\n",
        "          callsign = entry.get('flight', {}).get('icaoNumber')\n",
        "          # print(f\"icao24: {icao24}, icaoCode: {icaoCode} takeoffplan: {takeoffplan}, firstseen: {firstseen}, arrival: {arrival}, landingplan: {landingplan}, lastseen: {lastseen}, callsign: {callsign}\")\n",
        "\n",
        "          # Append the extracted data as a dictionary to the list\n",
        "          data.append({\n",
        "              'firstseen': firstseen,\n",
        "              'departure': departure.upper(),\n",
        "              'lastseen': lastseen,\n",
        "              'arrival': arrival.upper(),\n",
        "              'callsign': callsign\n",
        "          })\n",
        "\n",
        "\n",
        "      # Create a pandas DataFrame from the list of dictionaries\n",
        "      pdAll = pd.DataFrame(data)\n",
        "\n",
        "      # Convert 'firstseen' column to datetime objects\n",
        "      pdAll['firstseen'] = pd.to_datetime(pdAll['firstseen'])\n",
        "\n",
        "      # Extract year, month, and day as extra \"day\" column\n",
        "      pdAll['day'] = pdAll['firstseen'].dt.strftime('%Y-%m-%d')\n",
        "\n",
        "      # sort by day\n",
        "      pdSorted = pdAll.sort_values(by=['day'])\n",
        "      pdSorted.tail()\n",
        "\n"
      ],
      "metadata": {
        "id": "bgws6mvFArlf"
      },
      "execution_count": 51,
      "outputs": []
    },
    {
      "cell_type": "code",
      "source": [
        "print(f'retrieved {len(pdAll)} flights departing at the selected airport')"
      ],
      "metadata": {
        "id": "GA4pL5-3jssi",
        "colab": {
          "base_uri": "https://localhost:8080/"
        },
        "outputId": "8fba9997-7910-4011-eddd-8be392803030"
      },
      "execution_count": 52,
      "outputs": [
        {
          "output_type": "stream",
          "name": "stdout",
          "text": [
            "retrieved 899 flights departing at the selected airport\n"
          ]
        }
      ]
    },
    {
      "cell_type": "markdown",
      "source": [
        "Output the (beginning and the )end of the retrieved dataframe"
      ],
      "metadata": {
        "id": "JJP9-YpFe4kq"
      }
    },
    {
      "cell_type": "code",
      "source": [
        "pdAll.tail()"
      ],
      "metadata": {
        "id": "PpU3DnTAfJfC",
        "colab": {
          "base_uri": "https://localhost:8080/",
          "height": 206
        },
        "outputId": "024127a6-3cdc-4520-d8e1-74408d511e54"
      },
      "execution_count": 53,
      "outputs": [
        {
          "output_type": "execute_result",
          "data": {
            "text/plain": [
              "              firstseen departure                 lastseen arrival callsign  \\\n",
              "894 2023-12-21 21:00:00      EDDH  2023-12-22t06:30:00.000    OMDB  qfa8062   \n",
              "895 2023-12-21 21:00:00      EDDH  2023-12-22t06:30:00.000    OMDB    uae62   \n",
              "896 2023-12-21 21:30:00      EDDH  2023-12-21t22:55:00.000    LFSB  ezy1184   \n",
              "897 2023-12-21 11:00:00      EDDH  2023-12-21t15:38:00.000    LCPH   sua711   \n",
              "898 2023-12-21 18:05:00      EDDH  2023-12-21t19:03:00.000    EHAM   vjt763   \n",
              "\n",
              "            day  \n",
              "894  2023-12-21  \n",
              "895  2023-12-21  \n",
              "896  2023-12-21  \n",
              "897  2023-12-21  \n",
              "898  2023-12-21  "
            ],
            "text/html": [
              "\n",
              "  <div id=\"df-3994b9c7-a477-4375-91c6-81c2959e0485\" class=\"colab-df-container\">\n",
              "    <div>\n",
              "<style scoped>\n",
              "    .dataframe tbody tr th:only-of-type {\n",
              "        vertical-align: middle;\n",
              "    }\n",
              "\n",
              "    .dataframe tbody tr th {\n",
              "        vertical-align: top;\n",
              "    }\n",
              "\n",
              "    .dataframe thead th {\n",
              "        text-align: right;\n",
              "    }\n",
              "</style>\n",
              "<table border=\"1\" class=\"dataframe\">\n",
              "  <thead>\n",
              "    <tr style=\"text-align: right;\">\n",
              "      <th></th>\n",
              "      <th>firstseen</th>\n",
              "      <th>departure</th>\n",
              "      <th>lastseen</th>\n",
              "      <th>arrival</th>\n",
              "      <th>callsign</th>\n",
              "      <th>day</th>\n",
              "    </tr>\n",
              "  </thead>\n",
              "  <tbody>\n",
              "    <tr>\n",
              "      <th>894</th>\n",
              "      <td>2023-12-21 21:00:00</td>\n",
              "      <td>EDDH</td>\n",
              "      <td>2023-12-22t06:30:00.000</td>\n",
              "      <td>OMDB</td>\n",
              "      <td>qfa8062</td>\n",
              "      <td>2023-12-21</td>\n",
              "    </tr>\n",
              "    <tr>\n",
              "      <th>895</th>\n",
              "      <td>2023-12-21 21:00:00</td>\n",
              "      <td>EDDH</td>\n",
              "      <td>2023-12-22t06:30:00.000</td>\n",
              "      <td>OMDB</td>\n",
              "      <td>uae62</td>\n",
              "      <td>2023-12-21</td>\n",
              "    </tr>\n",
              "    <tr>\n",
              "      <th>896</th>\n",
              "      <td>2023-12-21 21:30:00</td>\n",
              "      <td>EDDH</td>\n",
              "      <td>2023-12-21t22:55:00.000</td>\n",
              "      <td>LFSB</td>\n",
              "      <td>ezy1184</td>\n",
              "      <td>2023-12-21</td>\n",
              "    </tr>\n",
              "    <tr>\n",
              "      <th>897</th>\n",
              "      <td>2023-12-21 11:00:00</td>\n",
              "      <td>EDDH</td>\n",
              "      <td>2023-12-21t15:38:00.000</td>\n",
              "      <td>LCPH</td>\n",
              "      <td>sua711</td>\n",
              "      <td>2023-12-21</td>\n",
              "    </tr>\n",
              "    <tr>\n",
              "      <th>898</th>\n",
              "      <td>2023-12-21 18:05:00</td>\n",
              "      <td>EDDH</td>\n",
              "      <td>2023-12-21t19:03:00.000</td>\n",
              "      <td>EHAM</td>\n",
              "      <td>vjt763</td>\n",
              "      <td>2023-12-21</td>\n",
              "    </tr>\n",
              "  </tbody>\n",
              "</table>\n",
              "</div>\n",
              "    <div class=\"colab-df-buttons\">\n",
              "\n",
              "  <div class=\"colab-df-container\">\n",
              "    <button class=\"colab-df-convert\" onclick=\"convertToInteractive('df-3994b9c7-a477-4375-91c6-81c2959e0485')\"\n",
              "            title=\"Convert this dataframe to an interactive table.\"\n",
              "            style=\"display:none;\">\n",
              "\n",
              "  <svg xmlns=\"http://www.w3.org/2000/svg\" height=\"24px\" viewBox=\"0 -960 960 960\">\n",
              "    <path d=\"M120-120v-720h720v720H120Zm60-500h600v-160H180v160Zm220 220h160v-160H400v160Zm0 220h160v-160H400v160ZM180-400h160v-160H180v160Zm440 0h160v-160H620v160ZM180-180h160v-160H180v160Zm440 0h160v-160H620v160Z\"/>\n",
              "  </svg>\n",
              "    </button>\n",
              "\n",
              "  <style>\n",
              "    .colab-df-container {\n",
              "      display:flex;\n",
              "      gap: 12px;\n",
              "    }\n",
              "\n",
              "    .colab-df-convert {\n",
              "      background-color: #E8F0FE;\n",
              "      border: none;\n",
              "      border-radius: 50%;\n",
              "      cursor: pointer;\n",
              "      display: none;\n",
              "      fill: #1967D2;\n",
              "      height: 32px;\n",
              "      padding: 0 0 0 0;\n",
              "      width: 32px;\n",
              "    }\n",
              "\n",
              "    .colab-df-convert:hover {\n",
              "      background-color: #E2EBFA;\n",
              "      box-shadow: 0px 1px 2px rgba(60, 64, 67, 0.3), 0px 1px 3px 1px rgba(60, 64, 67, 0.15);\n",
              "      fill: #174EA6;\n",
              "    }\n",
              "\n",
              "    .colab-df-buttons div {\n",
              "      margin-bottom: 4px;\n",
              "    }\n",
              "\n",
              "    [theme=dark] .colab-df-convert {\n",
              "      background-color: #3B4455;\n",
              "      fill: #D2E3FC;\n",
              "    }\n",
              "\n",
              "    [theme=dark] .colab-df-convert:hover {\n",
              "      background-color: #434B5C;\n",
              "      box-shadow: 0px 1px 3px 1px rgba(0, 0, 0, 0.15);\n",
              "      filter: drop-shadow(0px 1px 2px rgba(0, 0, 0, 0.3));\n",
              "      fill: #FFFFFF;\n",
              "    }\n",
              "  </style>\n",
              "\n",
              "    <script>\n",
              "      const buttonEl =\n",
              "        document.querySelector('#df-3994b9c7-a477-4375-91c6-81c2959e0485 button.colab-df-convert');\n",
              "      buttonEl.style.display =\n",
              "        google.colab.kernel.accessAllowed ? 'block' : 'none';\n",
              "\n",
              "      async function convertToInteractive(key) {\n",
              "        const element = document.querySelector('#df-3994b9c7-a477-4375-91c6-81c2959e0485');\n",
              "        const dataTable =\n",
              "          await google.colab.kernel.invokeFunction('convertToInteractive',\n",
              "                                                    [key], {});\n",
              "        if (!dataTable) return;\n",
              "\n",
              "        const docLinkHtml = 'Like what you see? Visit the ' +\n",
              "          '<a target=\"_blank\" href=https://colab.research.google.com/notebooks/data_table.ipynb>data table notebook</a>'\n",
              "          + ' to learn more about interactive tables.';\n",
              "        element.innerHTML = '';\n",
              "        dataTable['output_type'] = 'display_data';\n",
              "        await google.colab.output.renderOutput(dataTable, element);\n",
              "        const docLink = document.createElement('div');\n",
              "        docLink.innerHTML = docLinkHtml;\n",
              "        element.appendChild(docLink);\n",
              "      }\n",
              "    </script>\n",
              "  </div>\n",
              "\n",
              "\n",
              "<div id=\"df-495b78d5-9867-49d4-8d30-d398c51adb8b\">\n",
              "  <button class=\"colab-df-quickchart\" onclick=\"quickchart('df-495b78d5-9867-49d4-8d30-d398c51adb8b')\"\n",
              "            title=\"Suggest charts\"\n",
              "            style=\"display:none;\">\n",
              "\n",
              "<svg xmlns=\"http://www.w3.org/2000/svg\" height=\"24px\"viewBox=\"0 0 24 24\"\n",
              "     width=\"24px\">\n",
              "    <g>\n",
              "        <path d=\"M19 3H5c-1.1 0-2 .9-2 2v14c0 1.1.9 2 2 2h14c1.1 0 2-.9 2-2V5c0-1.1-.9-2-2-2zM9 17H7v-7h2v7zm4 0h-2V7h2v10zm4 0h-2v-4h2v4z\"/>\n",
              "    </g>\n",
              "</svg>\n",
              "  </button>\n",
              "\n",
              "<style>\n",
              "  .colab-df-quickchart {\n",
              "      --bg-color: #E8F0FE;\n",
              "      --fill-color: #1967D2;\n",
              "      --hover-bg-color: #E2EBFA;\n",
              "      --hover-fill-color: #174EA6;\n",
              "      --disabled-fill-color: #AAA;\n",
              "      --disabled-bg-color: #DDD;\n",
              "  }\n",
              "\n",
              "  [theme=dark] .colab-df-quickchart {\n",
              "      --bg-color: #3B4455;\n",
              "      --fill-color: #D2E3FC;\n",
              "      --hover-bg-color: #434B5C;\n",
              "      --hover-fill-color: #FFFFFF;\n",
              "      --disabled-bg-color: #3B4455;\n",
              "      --disabled-fill-color: #666;\n",
              "  }\n",
              "\n",
              "  .colab-df-quickchart {\n",
              "    background-color: var(--bg-color);\n",
              "    border: none;\n",
              "    border-radius: 50%;\n",
              "    cursor: pointer;\n",
              "    display: none;\n",
              "    fill: var(--fill-color);\n",
              "    height: 32px;\n",
              "    padding: 0;\n",
              "    width: 32px;\n",
              "  }\n",
              "\n",
              "  .colab-df-quickchart:hover {\n",
              "    background-color: var(--hover-bg-color);\n",
              "    box-shadow: 0 1px 2px rgba(60, 64, 67, 0.3), 0 1px 3px 1px rgba(60, 64, 67, 0.15);\n",
              "    fill: var(--button-hover-fill-color);\n",
              "  }\n",
              "\n",
              "  .colab-df-quickchart-complete:disabled,\n",
              "  .colab-df-quickchart-complete:disabled:hover {\n",
              "    background-color: var(--disabled-bg-color);\n",
              "    fill: var(--disabled-fill-color);\n",
              "    box-shadow: none;\n",
              "  }\n",
              "\n",
              "  .colab-df-spinner {\n",
              "    border: 2px solid var(--fill-color);\n",
              "    border-color: transparent;\n",
              "    border-bottom-color: var(--fill-color);\n",
              "    animation:\n",
              "      spin 1s steps(1) infinite;\n",
              "  }\n",
              "\n",
              "  @keyframes spin {\n",
              "    0% {\n",
              "      border-color: transparent;\n",
              "      border-bottom-color: var(--fill-color);\n",
              "      border-left-color: var(--fill-color);\n",
              "    }\n",
              "    20% {\n",
              "      border-color: transparent;\n",
              "      border-left-color: var(--fill-color);\n",
              "      border-top-color: var(--fill-color);\n",
              "    }\n",
              "    30% {\n",
              "      border-color: transparent;\n",
              "      border-left-color: var(--fill-color);\n",
              "      border-top-color: var(--fill-color);\n",
              "      border-right-color: var(--fill-color);\n",
              "    }\n",
              "    40% {\n",
              "      border-color: transparent;\n",
              "      border-right-color: var(--fill-color);\n",
              "      border-top-color: var(--fill-color);\n",
              "    }\n",
              "    60% {\n",
              "      border-color: transparent;\n",
              "      border-right-color: var(--fill-color);\n",
              "    }\n",
              "    80% {\n",
              "      border-color: transparent;\n",
              "      border-right-color: var(--fill-color);\n",
              "      border-bottom-color: var(--fill-color);\n",
              "    }\n",
              "    90% {\n",
              "      border-color: transparent;\n",
              "      border-bottom-color: var(--fill-color);\n",
              "    }\n",
              "  }\n",
              "</style>\n",
              "\n",
              "  <script>\n",
              "    async function quickchart(key) {\n",
              "      const quickchartButtonEl =\n",
              "        document.querySelector('#' + key + ' button');\n",
              "      quickchartButtonEl.disabled = true;  // To prevent multiple clicks.\n",
              "      quickchartButtonEl.classList.add('colab-df-spinner');\n",
              "      try {\n",
              "        const charts = await google.colab.kernel.invokeFunction(\n",
              "            'suggestCharts', [key], {});\n",
              "      } catch (error) {\n",
              "        console.error('Error during call to suggestCharts:', error);\n",
              "      }\n",
              "      quickchartButtonEl.classList.remove('colab-df-spinner');\n",
              "      quickchartButtonEl.classList.add('colab-df-quickchart-complete');\n",
              "    }\n",
              "    (() => {\n",
              "      let quickchartButtonEl =\n",
              "        document.querySelector('#df-495b78d5-9867-49d4-8d30-d398c51adb8b button');\n",
              "      quickchartButtonEl.style.display =\n",
              "        google.colab.kernel.accessAllowed ? 'block' : 'none';\n",
              "    })();\n",
              "  </script>\n",
              "</div>\n",
              "\n",
              "    </div>\n",
              "  </div>\n"
            ],
            "application/vnd.google.colaboratory.intrinsic+json": {
              "type": "dataframe",
              "repr_error": "0"
            }
          },
          "metadata": {},
          "execution_count": 53
        }
      ]
    },
    {
      "cell_type": "markdown",
      "source": [
        "Sort the data frame by departure time"
      ],
      "metadata": {
        "id": "1Pw3_5pCpDA1"
      }
    },
    {
      "cell_type": "code",
      "source": [
        "pdSorted = pdAll.sort_values(by=['day'])\n",
        "pdSorted.tail()\n"
      ],
      "metadata": {
        "id": "QTGdZ5RepL9v",
        "colab": {
          "base_uri": "https://localhost:8080/",
          "height": 206
        },
        "outputId": "94346bda-b2e3-480c-c1fe-3521b8a5630b"
      },
      "execution_count": 54,
      "outputs": [
        {
          "output_type": "execute_result",
          "data": {
            "text/plain": [
              "              firstseen departure                 lastseen arrival callsign  \\\n",
              "683 2023-12-21 09:50:00      EDDH  2023-12-21t11:00:00.000    EIDW  aal8004   \n",
              "682 2023-12-21 09:40:00      EDDH  2023-12-21t10:30:00.000    EKCH   bcy646   \n",
              "681 2023-12-21 09:40:00      EDDH  2023-12-21t10:30:00.000    EKCH  tha6233   \n",
              "688 2023-12-21 09:50:00      EDDH  2023-12-21t11:05:00.000    EDDM  sia2161   \n",
              "898 2023-12-21 18:05:00      EDDH  2023-12-21t19:03:00.000    EHAM   vjt763   \n",
              "\n",
              "            day  \n",
              "683  2023-12-21  \n",
              "682  2023-12-21  \n",
              "681  2023-12-21  \n",
              "688  2023-12-21  \n",
              "898  2023-12-21  "
            ],
            "text/html": [
              "\n",
              "  <div id=\"df-b52db5e3-8637-48d5-b15c-cdcff4336292\" class=\"colab-df-container\">\n",
              "    <div>\n",
              "<style scoped>\n",
              "    .dataframe tbody tr th:only-of-type {\n",
              "        vertical-align: middle;\n",
              "    }\n",
              "\n",
              "    .dataframe tbody tr th {\n",
              "        vertical-align: top;\n",
              "    }\n",
              "\n",
              "    .dataframe thead th {\n",
              "        text-align: right;\n",
              "    }\n",
              "</style>\n",
              "<table border=\"1\" class=\"dataframe\">\n",
              "  <thead>\n",
              "    <tr style=\"text-align: right;\">\n",
              "      <th></th>\n",
              "      <th>firstseen</th>\n",
              "      <th>departure</th>\n",
              "      <th>lastseen</th>\n",
              "      <th>arrival</th>\n",
              "      <th>callsign</th>\n",
              "      <th>day</th>\n",
              "    </tr>\n",
              "  </thead>\n",
              "  <tbody>\n",
              "    <tr>\n",
              "      <th>683</th>\n",
              "      <td>2023-12-21 09:50:00</td>\n",
              "      <td>EDDH</td>\n",
              "      <td>2023-12-21t11:00:00.000</td>\n",
              "      <td>EIDW</td>\n",
              "      <td>aal8004</td>\n",
              "      <td>2023-12-21</td>\n",
              "    </tr>\n",
              "    <tr>\n",
              "      <th>682</th>\n",
              "      <td>2023-12-21 09:40:00</td>\n",
              "      <td>EDDH</td>\n",
              "      <td>2023-12-21t10:30:00.000</td>\n",
              "      <td>EKCH</td>\n",
              "      <td>bcy646</td>\n",
              "      <td>2023-12-21</td>\n",
              "    </tr>\n",
              "    <tr>\n",
              "      <th>681</th>\n",
              "      <td>2023-12-21 09:40:00</td>\n",
              "      <td>EDDH</td>\n",
              "      <td>2023-12-21t10:30:00.000</td>\n",
              "      <td>EKCH</td>\n",
              "      <td>tha6233</td>\n",
              "      <td>2023-12-21</td>\n",
              "    </tr>\n",
              "    <tr>\n",
              "      <th>688</th>\n",
              "      <td>2023-12-21 09:50:00</td>\n",
              "      <td>EDDH</td>\n",
              "      <td>2023-12-21t11:05:00.000</td>\n",
              "      <td>EDDM</td>\n",
              "      <td>sia2161</td>\n",
              "      <td>2023-12-21</td>\n",
              "    </tr>\n",
              "    <tr>\n",
              "      <th>898</th>\n",
              "      <td>2023-12-21 18:05:00</td>\n",
              "      <td>EDDH</td>\n",
              "      <td>2023-12-21t19:03:00.000</td>\n",
              "      <td>EHAM</td>\n",
              "      <td>vjt763</td>\n",
              "      <td>2023-12-21</td>\n",
              "    </tr>\n",
              "  </tbody>\n",
              "</table>\n",
              "</div>\n",
              "    <div class=\"colab-df-buttons\">\n",
              "\n",
              "  <div class=\"colab-df-container\">\n",
              "    <button class=\"colab-df-convert\" onclick=\"convertToInteractive('df-b52db5e3-8637-48d5-b15c-cdcff4336292')\"\n",
              "            title=\"Convert this dataframe to an interactive table.\"\n",
              "            style=\"display:none;\">\n",
              "\n",
              "  <svg xmlns=\"http://www.w3.org/2000/svg\" height=\"24px\" viewBox=\"0 -960 960 960\">\n",
              "    <path d=\"M120-120v-720h720v720H120Zm60-500h600v-160H180v160Zm220 220h160v-160H400v160Zm0 220h160v-160H400v160ZM180-400h160v-160H180v160Zm440 0h160v-160H620v160ZM180-180h160v-160H180v160Zm440 0h160v-160H620v160Z\"/>\n",
              "  </svg>\n",
              "    </button>\n",
              "\n",
              "  <style>\n",
              "    .colab-df-container {\n",
              "      display:flex;\n",
              "      gap: 12px;\n",
              "    }\n",
              "\n",
              "    .colab-df-convert {\n",
              "      background-color: #E8F0FE;\n",
              "      border: none;\n",
              "      border-radius: 50%;\n",
              "      cursor: pointer;\n",
              "      display: none;\n",
              "      fill: #1967D2;\n",
              "      height: 32px;\n",
              "      padding: 0 0 0 0;\n",
              "      width: 32px;\n",
              "    }\n",
              "\n",
              "    .colab-df-convert:hover {\n",
              "      background-color: #E2EBFA;\n",
              "      box-shadow: 0px 1px 2px rgba(60, 64, 67, 0.3), 0px 1px 3px 1px rgba(60, 64, 67, 0.15);\n",
              "      fill: #174EA6;\n",
              "    }\n",
              "\n",
              "    .colab-df-buttons div {\n",
              "      margin-bottom: 4px;\n",
              "    }\n",
              "\n",
              "    [theme=dark] .colab-df-convert {\n",
              "      background-color: #3B4455;\n",
              "      fill: #D2E3FC;\n",
              "    }\n",
              "\n",
              "    [theme=dark] .colab-df-convert:hover {\n",
              "      background-color: #434B5C;\n",
              "      box-shadow: 0px 1px 3px 1px rgba(0, 0, 0, 0.15);\n",
              "      filter: drop-shadow(0px 1px 2px rgba(0, 0, 0, 0.3));\n",
              "      fill: #FFFFFF;\n",
              "    }\n",
              "  </style>\n",
              "\n",
              "    <script>\n",
              "      const buttonEl =\n",
              "        document.querySelector('#df-b52db5e3-8637-48d5-b15c-cdcff4336292 button.colab-df-convert');\n",
              "      buttonEl.style.display =\n",
              "        google.colab.kernel.accessAllowed ? 'block' : 'none';\n",
              "\n",
              "      async function convertToInteractive(key) {\n",
              "        const element = document.querySelector('#df-b52db5e3-8637-48d5-b15c-cdcff4336292');\n",
              "        const dataTable =\n",
              "          await google.colab.kernel.invokeFunction('convertToInteractive',\n",
              "                                                    [key], {});\n",
              "        if (!dataTable) return;\n",
              "\n",
              "        const docLinkHtml = 'Like what you see? Visit the ' +\n",
              "          '<a target=\"_blank\" href=https://colab.research.google.com/notebooks/data_table.ipynb>data table notebook</a>'\n",
              "          + ' to learn more about interactive tables.';\n",
              "        element.innerHTML = '';\n",
              "        dataTable['output_type'] = 'display_data';\n",
              "        await google.colab.output.renderOutput(dataTable, element);\n",
              "        const docLink = document.createElement('div');\n",
              "        docLink.innerHTML = docLinkHtml;\n",
              "        element.appendChild(docLink);\n",
              "      }\n",
              "    </script>\n",
              "  </div>\n",
              "\n",
              "\n",
              "<div id=\"df-ba882542-539f-416d-9e65-8fff08fad2fc\">\n",
              "  <button class=\"colab-df-quickchart\" onclick=\"quickchart('df-ba882542-539f-416d-9e65-8fff08fad2fc')\"\n",
              "            title=\"Suggest charts\"\n",
              "            style=\"display:none;\">\n",
              "\n",
              "<svg xmlns=\"http://www.w3.org/2000/svg\" height=\"24px\"viewBox=\"0 0 24 24\"\n",
              "     width=\"24px\">\n",
              "    <g>\n",
              "        <path d=\"M19 3H5c-1.1 0-2 .9-2 2v14c0 1.1.9 2 2 2h14c1.1 0 2-.9 2-2V5c0-1.1-.9-2-2-2zM9 17H7v-7h2v7zm4 0h-2V7h2v10zm4 0h-2v-4h2v4z\"/>\n",
              "    </g>\n",
              "</svg>\n",
              "  </button>\n",
              "\n",
              "<style>\n",
              "  .colab-df-quickchart {\n",
              "      --bg-color: #E8F0FE;\n",
              "      --fill-color: #1967D2;\n",
              "      --hover-bg-color: #E2EBFA;\n",
              "      --hover-fill-color: #174EA6;\n",
              "      --disabled-fill-color: #AAA;\n",
              "      --disabled-bg-color: #DDD;\n",
              "  }\n",
              "\n",
              "  [theme=dark] .colab-df-quickchart {\n",
              "      --bg-color: #3B4455;\n",
              "      --fill-color: #D2E3FC;\n",
              "      --hover-bg-color: #434B5C;\n",
              "      --hover-fill-color: #FFFFFF;\n",
              "      --disabled-bg-color: #3B4455;\n",
              "      --disabled-fill-color: #666;\n",
              "  }\n",
              "\n",
              "  .colab-df-quickchart {\n",
              "    background-color: var(--bg-color);\n",
              "    border: none;\n",
              "    border-radius: 50%;\n",
              "    cursor: pointer;\n",
              "    display: none;\n",
              "    fill: var(--fill-color);\n",
              "    height: 32px;\n",
              "    padding: 0;\n",
              "    width: 32px;\n",
              "  }\n",
              "\n",
              "  .colab-df-quickchart:hover {\n",
              "    background-color: var(--hover-bg-color);\n",
              "    box-shadow: 0 1px 2px rgba(60, 64, 67, 0.3), 0 1px 3px 1px rgba(60, 64, 67, 0.15);\n",
              "    fill: var(--button-hover-fill-color);\n",
              "  }\n",
              "\n",
              "  .colab-df-quickchart-complete:disabled,\n",
              "  .colab-df-quickchart-complete:disabled:hover {\n",
              "    background-color: var(--disabled-bg-color);\n",
              "    fill: var(--disabled-fill-color);\n",
              "    box-shadow: none;\n",
              "  }\n",
              "\n",
              "  .colab-df-spinner {\n",
              "    border: 2px solid var(--fill-color);\n",
              "    border-color: transparent;\n",
              "    border-bottom-color: var(--fill-color);\n",
              "    animation:\n",
              "      spin 1s steps(1) infinite;\n",
              "  }\n",
              "\n",
              "  @keyframes spin {\n",
              "    0% {\n",
              "      border-color: transparent;\n",
              "      border-bottom-color: var(--fill-color);\n",
              "      border-left-color: var(--fill-color);\n",
              "    }\n",
              "    20% {\n",
              "      border-color: transparent;\n",
              "      border-left-color: var(--fill-color);\n",
              "      border-top-color: var(--fill-color);\n",
              "    }\n",
              "    30% {\n",
              "      border-color: transparent;\n",
              "      border-left-color: var(--fill-color);\n",
              "      border-top-color: var(--fill-color);\n",
              "      border-right-color: var(--fill-color);\n",
              "    }\n",
              "    40% {\n",
              "      border-color: transparent;\n",
              "      border-right-color: var(--fill-color);\n",
              "      border-top-color: var(--fill-color);\n",
              "    }\n",
              "    60% {\n",
              "      border-color: transparent;\n",
              "      border-right-color: var(--fill-color);\n",
              "    }\n",
              "    80% {\n",
              "      border-color: transparent;\n",
              "      border-right-color: var(--fill-color);\n",
              "      border-bottom-color: var(--fill-color);\n",
              "    }\n",
              "    90% {\n",
              "      border-color: transparent;\n",
              "      border-bottom-color: var(--fill-color);\n",
              "    }\n",
              "  }\n",
              "</style>\n",
              "\n",
              "  <script>\n",
              "    async function quickchart(key) {\n",
              "      const quickchartButtonEl =\n",
              "        document.querySelector('#' + key + ' button');\n",
              "      quickchartButtonEl.disabled = true;  // To prevent multiple clicks.\n",
              "      quickchartButtonEl.classList.add('colab-df-spinner');\n",
              "      try {\n",
              "        const charts = await google.colab.kernel.invokeFunction(\n",
              "            'suggestCharts', [key], {});\n",
              "      } catch (error) {\n",
              "        console.error('Error during call to suggestCharts:', error);\n",
              "      }\n",
              "      quickchartButtonEl.classList.remove('colab-df-spinner');\n",
              "      quickchartButtonEl.classList.add('colab-df-quickchart-complete');\n",
              "    }\n",
              "    (() => {\n",
              "      let quickchartButtonEl =\n",
              "        document.querySelector('#df-ba882542-539f-416d-9e65-8fff08fad2fc button');\n",
              "      quickchartButtonEl.style.display =\n",
              "        google.colab.kernel.accessAllowed ? 'block' : 'none';\n",
              "    })();\n",
              "  </script>\n",
              "</div>\n",
              "\n",
              "    </div>\n",
              "  </div>\n"
            ],
            "application/vnd.google.colaboratory.intrinsic+json": {
              "type": "dataframe",
              "repr_error": "0"
            }
          },
          "metadata": {},
          "execution_count": 54
        }
      ]
    },
    {
      "cell_type": "markdown",
      "source": [
        "Mount google drive to save the resulting csv file"
      ],
      "metadata": {
        "id": "AI6lPwIXkA5n"
      }
    },
    {
      "cell_type": "code",
      "source": [
        "from google.colab import drive\n",
        "drive.mount('/content/drive')\n",
        "\n",
        "import os\n",
        "\n",
        "# where to save the data (and making shure that the directory exist)\n",
        "folder_path = \"/content/drive/My Drive/2024KomplexeNetze/DatenAE\"\n",
        "if not os.path.exists(folder_path):\n",
        "    os.makedirs(folder_path)\n"
      ],
      "metadata": {
        "id": "MWg_iOJHbLON",
        "colab": {
          "base_uri": "https://localhost:8080/"
        },
        "outputId": "f2d6b9c3-619c-47de-eca1-ed7ec961f9a5"
      },
      "execution_count": 55,
      "outputs": [
        {
          "output_type": "stream",
          "name": "stdout",
          "text": [
            "Mounted at /content/drive\n"
          ]
        }
      ]
    },
    {
      "cell_type": "markdown",
      "source": [
        "Last step: save the retrieved data into csv, with a name defined by start and stop date."
      ],
      "metadata": {
        "id": "PKlJ-Q_TkJmC"
      }
    },
    {
      "cell_type": "code",
      "source": [
        "outputfile=startdate+\"_\"+stopdate+\".csv\"\n",
        "file_path = os.path.join(folder_path, outputfile)\n",
        "pdSorted.to_csv(file_path, index=False)  # ((saving without the DataFrame index))"
      ],
      "metadata": {
        "id": "t6igyAHBkTka"
      },
      "execution_count": 56,
      "outputs": []
    },
    {
      "cell_type": "code",
      "source": [
        "print(f'Output file has been generated in {file_path}')"
      ],
      "metadata": {
        "id": "Wdh60-gvkkte",
        "colab": {
          "base_uri": "https://localhost:8080/"
        },
        "outputId": "5521ea04-d943-40e5-bd6e-8339b31b11d4"
      },
      "execution_count": 57,
      "outputs": [
        {
          "output_type": "stream",
          "name": "stdout",
          "text": [
            "Output file has been generated in /content/drive/My Drive/2024KomplexeNetze/DatenAE/2023-12-19_2023-12-21.csv\n"
          ]
        }
      ]
    },
    {
      "cell_type": "markdown",
      "source": [
        "--------------------------------------\n",
        "Note: if we want, we could also get some airport info from provided by traffic, like geo coordinates, city, name."
      ],
      "metadata": {
        "id": "rbhBe2ALpGab"
      }
    },
    {
      "cell_type": "markdown",
      "source": [
        "TO DO: check the list of airports in the published covid-19 dataset - are they the same airports?\n"
      ],
      "metadata": {
        "id": "S0R3ArDTvJJy"
      }
    },
    {
      "cell_type": "code",
      "source": [],
      "metadata": {
        "id": "gHrXjnIEpjZg"
      },
      "execution_count": null,
      "outputs": []
    },
    {
      "cell_type": "code",
      "source": [],
      "metadata": {
        "id": "dVQyFfGsVu0R"
      },
      "execution_count": null,
      "outputs": []
    }
  ]
}